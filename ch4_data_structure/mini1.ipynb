{
 "cells": [
  {
   "cell_type": "code",
   "execution_count": 3,
   "metadata": {},
   "outputs": [
    {
     "name": "stdout",
     "output_type": "stream",
     "text": [
      "입력하신 문자열의 길이는 :  5\n"
     ]
    }
   ],
   "source": [
    "#1.\n",
    "def word_len():\n",
    "    word = input(\"문자를 입력하여 주세요 : \")\n",
    "    length = len(word)\n",
    "    return length\n",
    "\n",
    "result = word_len()\n",
    "print(\"입력하신 문자열의 길이는 : \", result)"
   ]
  },
  {
   "cell_type": "code",
   "execution_count": 4,
   "metadata": {},
   "outputs": [
    {
     "name": "stdout",
     "output_type": "stream",
     "text": [
      "뒤집어서 출력 :  dlrow\n"
     ]
    }
   ],
   "source": [
    "#2.\n",
    "def word_reverse():\n",
    "    word = input(\"문자를 입력하여 주세요 : \")\n",
    "    upside_down = word[::-1]\n",
    "    return upside_down\n",
    "    \n",
    "\n",
    "result = word_reverse()\n",
    "print(\"뒤집어서 출력 : \", result)"
   ]
  },
  {
   "cell_type": "code",
   "execution_count": null,
   "metadata": {},
   "outputs": [
    {
     "name": "stdout",
     "output_type": "stream",
     "text": [
      "문장에 포함된 단어의 개수 :  1\n"
     ]
    }
   ],
   "source": [
    "#3.\n",
    "def sentence_result():\n",
    "    sentence = input(\"문장을 입력하여 주세요 : \")\n",
    "    point_word = input(\"단어를 입력하여 주세요 : \")\n",
    "\n",
    "    search = sentence.count(point_word)\n",
    "    return search\n",
    "    \n",
    "result = sentence_result()\n",
    "print(\"문장에 포함된 단어의 개수 : \", result)"
   ]
  },
  {
   "cell_type": "code",
   "execution_count": 20,
   "metadata": {},
   "outputs": [
    {
     "name": "stdout",
     "output_type": "stream",
     "text": [
      "찾는 단어의 개수 :  2\n"
     ]
    }
   ],
   "source": [
    "#4.\n",
    "def word_count():\n",
    "    sentence = input(\"문장을 입력하여 주세요 : \")\n",
    "    find = input(\"찾을 단어를 입력하여 주세요 : \")\n",
    "    word_count = sentence.count(find)\n",
    "    return word_count\n",
    "\n",
    "result = word_count()\n",
    "print(\"찾는 단어의 개수 : \", result)"
   ]
  },
  {
   "cell_type": "code",
   "execution_count": null,
   "metadata": {},
   "outputs": [
    {
     "name": "stdout",
     "output_type": "stream",
     "text": [
      "대문자로 변환 :  HELLO WORLD\n",
      "소문자로 변환 :  hello world\n"
     ]
    }
   ],
   "source": [
    "#5.\n",
    "def sentence_camel():\n",
    "    sentence = input(\"문장을 입력하여 주세요 : \")\n",
    "\n",
    "    upper = sentence.upper()\n",
    "    lower = sentence.lower()\n",
    "\n",
    "    return upper, lower\n",
    "\n",
    "upper_result = sentence_camel()[0]\n",
    "lower_result = sentence_camel()[1]\n",
    "\n",
    "print(\"대문자로 변환 : \", upper_result)\n",
    "print(\"소문자로 변환 : \", lower_result)"
   ]
  },
  {
   "cell_type": "code",
   "execution_count": null,
   "metadata": {},
   "outputs": [
    {
     "name": "stdout",
     "output_type": "stream",
     "text": [
      "'dad'는 회문입니다.\n"
     ]
    }
   ],
   "source": [
    "#6.\n",
    "def palindrome():\n",
    "    word = input(\"회문을 입력하여 주세요 : \")\n",
    "    def is_palindrome(s):\n",
    "        return s == s[::-1]\n",
    "    return word, is_palindrome(word)\n",
    "\n",
    "word, result = palindrome()\n",
    "if result:\n",
    "    print(f\"'{word}'는 회문입니다.\")\n",
    "else:\n",
    "    print(f\"'{word}'는 회문이 아닙니다.\")"
   ]
  }
 ],
 "metadata": {
  "kernelspec": {
   "display_name": "Python 3",
   "language": "python",
   "name": "python3"
  },
  "language_info": {
   "codemirror_mode": {
    "name": "ipython",
    "version": 3
   },
   "file_extension": ".py",
   "mimetype": "text/x-python",
   "name": "python",
   "nbconvert_exporter": "python",
   "pygments_lexer": "ipython3",
   "version": "3.13.2"
  }
 },
 "nbformat": 4,
 "nbformat_minor": 2
}
