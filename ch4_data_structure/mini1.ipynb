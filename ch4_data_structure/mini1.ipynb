{
 "cells": [
  {
   "cell_type": "code",
   "execution_count": null,
   "metadata": {},
   "outputs": [
    {
     "name": "stdout",
     "output_type": "stream",
     "text": [
      "입력하신 문자열의 길이는 :  5\n",
      "뒤집어서 출력 :  olleh\n",
      "문장에 포함된 단어의 개수 :  6\n",
      "대문자로 변환 :  HELLO WORLD PYTHON\n",
      "소문자로 변환 :  hello world python\n",
      "'hello'는 회문이 아닙니다.\n"
     ]
    }
   ],
   "source": [
    "#1.\n",
    "word = input(\"문자를 입력하여 주세요 : \")\n",
    "\n",
    "length = len(word)\n",
    "\n",
    "print(\"입력하신 문자열의 길이는 : \", length)"
   ]
  },
  {
   "cell_type": "code",
   "execution_count": null,
   "metadata": {},
   "outputs": [],
   "source": [
    "#2.\n",
    "word = input(\"문자를 입력하여 주세요 : \")\n",
    "\n",
    "upside_down = word[::-1]\n",
    "\n",
    "print(\"뒤집어서 출력 : \", upside_down)"
   ]
  },
  {
   "cell_type": "code",
   "execution_count": null,
   "metadata": {},
   "outputs": [],
   "source": [
    "#3.\n",
    "sentence = input(\"문장을 입력하여 주세요 : \")\n",
    "point_word = input(\"단어를 입력하여 주세요 : \")\n",
    "\n",
    "search = sentence.find(point_word)\n",
    "\n",
    "print(\"문장에 포함된 단어의 개수 : \", search)"
   ]
  },
  {
   "cell_type": "code",
   "execution_count": null,
   "metadata": {},
   "outputs": [],
   "source": [
    "#4.\n",
    "sentence = input(\"문장을 입력하여 주세요 : \")\n",
    "\n",
    "upper = sentence.upper()\n",
    "lower = sentence.lower()\n",
    "\n",
    "print(\"대문자로 변환 : \", upper)\n",
    "print(\"소문자로 변환 : \", lower)"
   ]
  },
  {
   "cell_type": "code",
   "execution_count": null,
   "metadata": {},
   "outputs": [],
   "source": [
    "#5.\n",
    "palindrome = input(\"회문을 입력하여 주세요 : \")\n",
    "def is_palindrome(s):\n",
    "    return s == s[::-1]\n",
    "\n",
    "if is_palindrome(palindrome):\n",
    "    print(f\"'{palindrome}'는 회문입니다.\")\n",
    "else:\n",
    "    print(f\"'{palindrome}'는 회문이 아닙니다.\")"
   ]
  }
 ],
 "metadata": {
  "kernelspec": {
   "display_name": "Python 3",
   "language": "python",
   "name": "python3"
  },
  "language_info": {
   "codemirror_mode": {
    "name": "ipython",
    "version": 3
   },
   "file_extension": ".py",
   "mimetype": "text/x-python",
   "name": "python",
   "nbconvert_exporter": "python",
   "pygments_lexer": "ipython3",
   "version": "3.13.2"
  }
 },
 "nbformat": 4,
 "nbformat_minor": 2
}
