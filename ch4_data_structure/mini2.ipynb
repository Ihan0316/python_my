{
 "cells": [
  {
   "cell_type": "code",
   "metadata": {},
   "source": [
    "def display_menu():\n",
    "    print(\"\\n🔹 리스트 관리 시스템 🔹\")\n",
    "    print(\"1. 추가\")\n",
    "    print(\"2. 수정\")\n",
    "    print(\"3. 삭제\")\n",
    "    print(\"4. 조회\")\n",
    "    print(\"5. 검색\")\n",
    "    print(\"6. 종료\")\n",
    "\n",
    "def add_list(my_list):\n",
    "    word = input(\"값을 입력하세요: \")\n",
    "    my_list.append(word)\n",
    "    print(word, \"가 추가되었습니다.\")\n",
    "\n",
    "def modify_list(my_list, word):\n",
    "    if word in my_list:\n",
    "        index = my_list.index(word)\n",
    "        new_word = input(\"새로운 값을 입력하세요: \")\n",
    "        my_list[index] = new_word\n",
    "        print(word, \"가\", new_word, \"로 수정되었습니다.\")\n",
    "    else:\n",
    "        print(\"리스트에 값이 존재하지 않습니다.\")\n",
    "\n",
    "def delete_list(my_list, word):\n",
    "    if word in my_list:\n",
    "        my_list.remove(word)\n",
    "        print(word, \"가 삭제되었습니다.\")\n",
    "    else:\n",
    "        print(\"리스트에 값이 존재하지 않습니다.\")\n",
    "\n",
    "def show_list(my_list):\n",
    "    print(\"현재 리스트\", my_list)\n",
    "\n",
    "def search_list(my_list, word):\n",
    "    if word in my_list:\n",
    "        print(word, \"가 리스트에 존재합니다.\")\n",
    "    else:\n",
    "        print(word, \"가 리스트에 존재하지 않습니다.\")\n",
    "\n",
    "\n",
    "def main():\n",
    "    my_list = []\n",
    "    while True:\n",
    "        display_menu()\n",
    "        menu = input(\"메뉴를 선택하세요: \")\n",
    "        if menu == '1':\n",
    "            add_list(my_list)\n",
    "        elif menu == '2':\n",
    "            word = input(\"수정할 값을 입력하세요: \")\n",
    "            modify_list(my_list, word)\n",
    "        elif menu == '3':\n",
    "            word = input(\"삭제할 값을 입력하세요: \")\n",
    "            delete_list(my_list, word)\n",
    "        elif menu == '4':\n",
    "            show_list(my_list)\n",
    "        elif menu == '5':\n",
    "            word = input(\"검색할 값을 입력하세요: \")\n",
    "            search_list(my_list, word)\n",
    "        elif menu == '6':\n",
    "            break\n",
    "        else:\n",
    "            print(\"잘못된 메뉴입니다.\")\n",
    "\n",
    "if __name__ == \"__main__\":\n",
    "    main()"
   ],
   "outputs": [],
   "execution_count": null
  },
  {
   "metadata": {
    "ExecuteTime": {
     "end_time": "2025-02-13T05:57:56.673265Z",
     "start_time": "2025-02-13T05:57:56.668419Z"
    }
   },
   "cell_type": "code",
   "source": [
    "my_dict = {\"사과\" : 100, \"바나나\" : 200, \"딸기\" : 300}\n",
    "print(my_dict)\n",
    "\n",
    "#추가\n",
    "my_dict[\"포도\"] = 400\n",
    "print(my_dict)\n",
    "\n",
    "#수정\n",
    "my_dict[\"포도\"] = 500\n",
    "print(my_dict)\n",
    "\n",
    "#조회\n",
    "print(my_dict[\"바나나\"])\n",
    "\n",
    "#검색\n",
    "search_item = \"사과\"\n",
    "if search_item in my_dict:\n",
    "    print(f\"'{search_item}'가 my_dict에 수량 : '{my_dict[search_item]}'\")\n",
    "else:\n",
    "    print(\"my_dict에 존재 하지 않습니다.\")"
   ],
   "outputs": [
    {
     "name": "stdout",
     "output_type": "stream",
     "text": [
      "{'사과': 100, '바나나': 200, '딸기': 300}\n",
      "{'사과': 100, '바나나': 200, '딸기': 300, '포도': 400}\n",
      "{'사과': 100, '바나나': 200, '딸기': 300, '포도': 500}\n",
      "200\n",
      "'사과'가 my_dict에 수량 : '100'\n"
     ]
    }
   ],
   "execution_count": 5
  }
 ],
 "metadata": {
  "kernelspec": {
   "display_name": "Python 3",
   "language": "python",
   "name": "python3"
  },
  "language_info": {
   "codemirror_mode": {
    "name": "ipython",
    "version": 3
   },
   "file_extension": ".py",
   "mimetype": "text/x-python",
   "name": "python",
   "nbconvert_exporter": "python",
   "pygments_lexer": "ipython3",
   "version": "3.13.2"
  }
 },
 "nbformat": 4,
 "nbformat_minor": 2
}
