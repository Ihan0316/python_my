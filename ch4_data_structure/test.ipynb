{
 "cells": [
  {
   "cell_type": "code",
   "execution_count": 2,
   "metadata": {},
   "outputs": [
    {
     "name": "stdout",
     "output_type": "stream",
     "text": [
      "result 조회 해보기 : ['안', '녕', '하', '세', '요']\n",
      "word 조회 해보기. [::-1] : 요세하녕안\n"
     ]
    }
   ],
   "source": [
    "# list 를 함수, push(), pop() 이용해서, 스택처럼 사용해보기. \n",
    "word = input(\"문자열 입력해주세요: \")\n",
    "# input 함수 이용해서, 문자열 받고 , 다시, 문자열 -> 리스로 변환: list() 함수. \n",
    "word_list = list(word)\n",
    "\n",
    "# 임시로 저장할 빈 리슽, 참고로 전역. \n",
    "result = []\n",
    "# len 함수는 크기를 반환하는 함수. \n",
    "# word_list , pop() 함수로 꺼내서, result 임시 리스트에 담기. 반복문. \n",
    "for _ in range(len(word_list)):\n",
    "  result.append(word_list.pop(0))\n",
    "\n",
    "# 스택의 자료구조 형식을 이용해서 역순 출력\n",
    "print(f\"result 조회 해보기 : {result}\")\n",
    "# 단순, 슬라이싱을 이용해서, 역순 출력. \n",
    "print(f\"word 조회 해보기. [::-1] : {word[::-1]}\")"
   ]
  },
  {
   "cell_type": "code",
   "execution_count": 3,
   "metadata": {},
   "outputs": [
    {
     "name": "stdout",
     "output_type": "stream",
     "text": [
      "[100, 2, 3]\n"
     ]
    }
   ],
   "source": [
    "a = [1,2,3]\n",
    "a[0] = 100\n",
    "print(a)"
   ]
  },
  {
   "cell_type": "code",
   "execution_count": null,
   "metadata": {},
   "outputs": [
    {
     "ename": "TypeError",
     "evalue": "'tuple' object does not support item assignment",
     "output_type": "error",
     "traceback": [
      "\u001b[1;31m---------------------------------------------------------------------------\u001b[0m",
      "\u001b[1;31mTypeError\u001b[0m                                 Traceback (most recent call last)",
      "Cell \u001b[1;32mIn[4], line 2\u001b[0m\n\u001b[0;32m      1\u001b[0m a \u001b[38;5;241m=\u001b[39m (\u001b[38;5;241m1\u001b[39m,\u001b[38;5;241m2\u001b[39m,\u001b[38;5;241m3\u001b[39m)\n\u001b[1;32m----> 2\u001b[0m \u001b[43ma\u001b[49m\u001b[43m[\u001b[49m\u001b[38;5;241;43m0\u001b[39;49m\u001b[43m]\u001b[49m \u001b[38;5;241m=\u001b[39m \u001b[38;5;241m100\u001b[39m\n\u001b[0;32m      3\u001b[0m \u001b[38;5;28mprint\u001b[39m(a)\n",
      "\u001b[1;31mTypeError\u001b[0m: 'tuple' object does not support item assignment"
     ]
    }
   ],
   "source": [
    "a = (1,2,3)\n",
    "# a[0] = 100\n",
    "print(a)"
   ]
  },
  {
   "cell_type": "code",
   "execution_count": 6,
   "metadata": {},
   "outputs": [
    {
     "name": "stdout",
     "output_type": "stream",
     "text": [
      "{1, 2, 3}\n",
      "<class 'set'>\n",
      "[1, 2, 3]\n",
      "<class 'list'>\n"
     ]
    }
   ],
   "source": [
    "a = [1,1,2,2,3,3]\n",
    "b = set(a)\n",
    "print(b)\n",
    "print(type(b))\n",
    "c=list(b)\n",
    "print(c)\n",
    "print(type(c))\n"
   ]
  },
  {
   "cell_type": "code",
   "execution_count": 14,
   "metadata": {},
   "outputs": [
    {
     "name": "stdout",
     "output_type": "stream",
     "text": [
      "1\n",
      "2\n",
      "[1, 2, 3]\n",
      "dict_keys(['a', 'b', 'c'])\n",
      "dict_values([100, 2, [1, 2, 3]])\n",
      "dict_items([('a', 100), ('b', 2), ('c', [1, 2, 3])])\n"
     ]
    }
   ],
   "source": [
    "dic1 = {\"a\" : 1, \"b\" : 2, \"c\" : [1,2,3]}\n",
    "print(dic1[\"a\"])\n",
    "print(dic1[\"b\"])\n",
    "print(dic1[\"c\"])\n",
    "dic1[\"a\"] = 100\n",
    "print(dic1.keys())\n",
    "print(dic1.values())\n",
    "print(dic1.items())"
   ]
  },
  {
   "cell_type": "code",
   "execution_count": 16,
   "metadata": {},
   "outputs": [
    {
     "name": "stdout",
     "output_type": "stream",
     "text": [
      "키: a, 값: 1\n",
      "키: b, 값: 2\n",
      "키: c, 값: [1, 2, 3]\n"
     ]
    }
   ],
   "source": [
    "dic1 = {\"a\" : 1, \"b\" : 2, \"c\" : [1,2,3]}\n",
    "for k,v in dic1.items():\n",
    "   print(f\"키: {k}, 값: {v}\")"
   ]
  },
  {
   "cell_type": "code",
   "execution_count": 17,
   "metadata": {},
   "outputs": [
    {
     "name": "stdout",
     "output_type": "stream",
     "text": [
      "deque_list 출력 : deque([0, 1, 2, 3, 4])\n",
      "deque_list 출력 : deque([0, 1, 2, 3])\n",
      "deque_list 출력 : deque([0, 1, 2])\n"
     ]
    }
   ],
   "source": [
    "from collections import deque\n",
    "\n",
    "deque_list = deque()\n",
    "\n",
    " # 0 ~ 4, range(시작,끝, 증가값), 끝값은 미포함\n",
    "for i in range(5):\n",
    "  deque_list.append(i)\n",
    "print(f\"deque_list 출력 : {deque_list}\")\n",
    "\n",
    "# 스택처럼 하나씩 뒤에 값부터 4 꺼내기. pop() 이용 \n",
    "deque_list.pop() \n",
    "print(f\"deque_list 출력 : {deque_list}\")\n",
    "\n",
    "# 스택처럼 하나씩 뒤에 값부터 3 꺼내기. pop() 이용 \n",
    "deque_list.pop() \n",
    "print(f\"deque_list 출력 : {deque_list}\")"
   ]
  },
  {
   "cell_type": "code",
   "execution_count": 18,
   "metadata": {},
   "outputs": [
    {
     "name": "stdout",
     "output_type": "stream",
     "text": [
      "deque_list 출력 : deque([4, 3, 2, 1, 0])\n",
      "deque_list 출력 : deque([4, 3, 2, 1])\n",
      "deque_list 출력 : deque([4, 3, 2])\n"
     ]
    }
   ],
   "source": [
    "#deque , 큐처럼 사용하기, appendleft() 함수 이용하기. \n",
    "# 왼쪽부터 입력하게 해서, 들어간 값부터 출력하기. FIFO \n",
    "from collections import deque\n",
    "\n",
    "deque_list = deque()\n",
    "\n",
    " # 0 ~ 4, range(시작,끝, 증가값), 끝값은 미포함\n",
    "for i in range(5):\n",
    "  deque_list.appendleft(i)\n",
    "# 기존에 append 로 추가시, 오른쪽으로 추가했음. \n",
    "# [ 0,1,2,3,4]\n",
    "print(f\"deque_list 출력 : {deque_list}\")\n",
    "\n",
    "# 큐처럼 하나씩  먼저 들어온 값부터  0 꺼내기. pop() 이용 \n",
    "deque_list.pop() \n",
    "print(f\"deque_list 출력 : {deque_list}\")\n",
    "\n",
    "# 큐처럼 하나씩  먼저 들어온 값부터  1 꺼내기. pop() 이용 \n",
    "deque_list.pop() \n",
    "print(f\"deque_list 출력 : {deque_list}\")"
   ]
  },
  {
   "cell_type": "code",
   "execution_count": 19,
   "metadata": {},
   "outputs": [
    {
     "name": "stdout",
     "output_type": "stream",
     "text": [
      "deque_list 출력 : deque([4, 3, 2, 1, 0])\n",
      "deque_list 출력 : deque([1, 0, 4, 3, 2])\n"
     ]
    }
   ],
   "source": [
    "#deque , 각 요소의 다음 요소의 메모리 위치 주소값을 알고 있다. \n",
    "# 마지막 요소는 , 맨 처음 요소의 메모리 위치 주소값을 알고 있다. \n",
    "# 결론, 처음과 끝이 연결이 된구조가 되고, 이것을 이용해서, \n",
    "# 각 요소를 순회 시킬수 있다. \n",
    "# rotate() 함수를 이용해서, 각 요소를 이동이 가능하다. \n",
    "#deque , 큐처럼 사용하기, appendleft() 함수 이용하기. \n",
    "# 왼쪽부터 입력하게 해서, 들어간 값부터 출력하기. FIFO \n",
    "from collections import deque\n",
    "\n",
    "deque_list = deque()\n",
    "\n",
    " # 0 ~ 4, range(시작,끝, 증가값), 끝값은 미포함\n",
    "for i in range(5):\n",
    "  deque_list.appendleft(i)\n",
    "# 기존에 append 로 추가시, 오른쪽으로 추가했음. \n",
    "# [ 0,1,2,3,4]\n",
    "print(f\"deque_list 출력 : {deque_list}\")\n",
    "# deque_list 출력 : deque([4, 3, 2, 1, 0])\n",
    "\n",
    "# rotate() 함수 이용 \n",
    "# 2칸 이동해보기. \n",
    "deque_list.rotate(2)\n",
    "print(f\"deque_list 출력 : {deque_list}\")"
   ]
  },
  {
   "cell_type": "code",
   "execution_count": null,
   "metadata": {},
   "outputs": [],
   "source": []
  },
  {
   "cell_type": "code",
   "execution_count": null,
   "metadata": {},
   "outputs": [],
   "source": [
    "# reversed() 확인. \n",
    "from collections import deque\n",
    "\n",
    "deque_list = deque()\n",
    "\n",
    " # 0 ~ 4, range(시작,끝, 증가값), 끝값은 미포함\n",
    "for i in range(5):\n",
    "  deque_list.appendleft(i)\n",
    "# 기존에 append 로 추가시, 오른쪽으로 추가했음. \n",
    "# [ 0,1,2,3,4]\n",
    "print(f\"deque_list 출력 : {deque_list}\")\n",
    "# deque_list 출력 : deque([4, 3, 2, 1, 0])\n",
    "deque_list_reversed = deque(reversed(deque_list))\n",
    "print(f\"deque_list 출력 : {deque_list_reversed}\")"
   ]
  },
  {
   "cell_type": "code",
   "execution_count": 20,
   "metadata": {},
   "outputs": [
    {
     "name": "stdout",
     "output_type": "stream",
     "text": [
      "key : x, value : 1\n",
      "key : b, value : 2\n",
      "key : d, value : 4\n",
      "key : c, value : 3\n",
      "key : e, value : 5\n"
     ]
    }
   ],
   "source": [
    "\n",
    "d= {} # {} , 딕션너리 의미 \n",
    "d[\"x\"] = 1\n",
    "d[\"b\"] = 2\n",
    "d[\"d\"] = 4\n",
    "d[\"c\"] = 3\n",
    "d[\"e\"] = 5\n",
    "\n",
    "for k,v in d.items():\n",
    "  print(f\"key : {k}, value : {v}\")"
   ]
  },
  {
   "cell_type": "code",
   "execution_count": 21,
   "metadata": {},
   "outputs": [
    {
     "name": "stdout",
     "output_type": "stream",
     "text": [
      "key : x, value : 1\n",
      "key : b, value : 2\n",
      "key : d, value : 4\n",
      "key : c, value : 3\n",
      "key : e, value : 5\n"
     ]
    }
   ],
   "source": [
    "# OrderdDict , 순서있는 딕션너리 이용하기. \n",
    "from collections import OrderedDict\n",
    "d= OrderedDict()\n",
    "d[\"x\"] = 1\n",
    "d[\"b\"] = 2\n",
    "d[\"d\"] = 4\n",
    "d[\"c\"] = 3\n",
    "d[\"e\"] = 5\n",
    "\n",
    "for k,v in d.items():\n",
    "  print(f\"key : {k}, value : {v}\")"
   ]
  },
  {
   "cell_type": "code",
   "execution_count": 22,
   "metadata": {},
   "outputs": [
    {
     "name": "stdout",
     "output_type": "stream",
     "text": [
      "key : b, value : 2\n",
      "key : c, value : 3\n",
      "key : d, value : 4\n",
      "key : e, value : 5\n",
      "key : x, value : 1\n"
     ]
    }
   ],
   "source": [
    "# 정렬 해보기. \n",
    "# OrderdDict , 순서있는 딕션너리 이용하기. \n",
    "def sort_by_key(t):\n",
    "  return t[0]\n",
    "\n",
    "from collections import OrderedDict\n",
    "d= OrderedDict()\n",
    "d[\"x\"] = 1\n",
    "d[\"b\"] = 2\n",
    "d[\"d\"] = 4\n",
    "d[\"c\"] = 3\n",
    "d[\"e\"] = 5\n",
    "\n",
    "# key 정렬해보기. \n",
    "for k,v in OrderedDict(sorted(d.items(), key=sort_by_key)).items():\n",
    "  print(f\"key : {k}, value : {v}\")"
   ]
  },
  {
   "cell_type": "code",
   "execution_count": null,
   "metadata": {},
   "outputs": [],
   "source": []
  }
 ],
 "metadata": {
  "kernelspec": {
   "display_name": "Python 3",
   "language": "python",
   "name": "python3"
  },
  "language_info": {
   "codemirror_mode": {
    "name": "ipython",
    "version": 3
   },
   "file_extension": ".py",
   "mimetype": "text/x-python",
   "name": "python",
   "nbconvert_exporter": "python",
   "pygments_lexer": "ipython3",
   "version": "3.13.2"
  }
 },
 "nbformat": 4,
 "nbformat_minor": 2
}
