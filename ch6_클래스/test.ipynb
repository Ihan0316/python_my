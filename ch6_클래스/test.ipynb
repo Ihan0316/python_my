{
 "cells": [
  {
   "cell_type": "code",
   "id": "initial_id",
   "metadata": {
    "collapsed": true,
    "ExecuteTime": {
     "end_time": "2025-02-14T01:13:53.044730Z",
     "start_time": "2025-02-14T01:13:53.040198Z"
    }
   },
   "source": [
    "class Animal:\n",
    "    def __init__(self, name, age):\n",
    "        self.name = name\n",
    "        self.age = age\n",
    "    def speak(self):\n",
    "        print(\"말하기\")\n",
    "\n",
    "lsy = Animal(\"lsy\", 20)\n",
    "lsy.speak()"
   ],
   "outputs": [
    {
     "name": "stdout",
     "output_type": "stream",
     "text": [
      "말하기\n"
     ]
    }
   ],
   "execution_count": 1
  },
  {
   "metadata": {
    "ExecuteTime": {
     "end_time": "2025-02-14T01:31:28.012991Z",
     "start_time": "2025-02-14T01:31:28.003416Z"
    }
   },
   "cell_type": "code",
   "source": [
    "class Dog(Animal):\n",
    "    def __init__(self, name, age, favorite_food, friend_list):\n",
    "        super().__init__(name, age)\n",
    "        self.favorite_food = favorite_food\n",
    "        self.__friend_list = friend_list\n",
    "    def add_friend(self, friend):\n",
    "        self.__friend_list.append(friend)\n",
    "    def get_friends(self):\n",
    "        return self.__friend_list\n",
    "\n",
    "    def speak(self):\n",
    "        print(\"멍멍\")\n",
    "    def show_food(self):\n",
    "        print(f\"좋아하는 음식: {self.favorite_food}\")\n",
    "lsy2 = Dog(\"lsy2\", 20, \"소세지\",[\"lsy10\",\"lsy20\"])\n",
    "lsy2.speak()\n",
    "lsy2.show_food()\n",
    "lsy2.get_friends()\n",
    "lsy2.add_friend(\"lsy30\")\n",
    "lsy2.get_friends()\n",
    "# lsy2.__friend_list"
   ],
   "id": "d7b6497fba26934b",
   "outputs": [
    {
     "name": "stdout",
     "output_type": "stream",
     "text": [
      "멍멍\n",
      "좋아하는 음식: 소세지\n"
     ]
    },
    {
     "data": {
      "text/plain": [
       "['lsy10', 'lsy20', 'lsy30']"
      ]
     },
     "execution_count": 8,
     "metadata": {},
     "output_type": "execute_result"
    }
   ],
   "execution_count": 8
  }
 ],
 "metadata": {
  "kernelspec": {
   "display_name": "Python 3",
   "language": "python",
   "name": "python3"
  },
  "language_info": {
   "codemirror_mode": {
    "name": "ipython",
    "version": 2
   },
   "file_extension": ".py",
   "mimetype": "text/x-python",
   "name": "python",
   "nbconvert_exporter": "python",
   "pygments_lexer": "ipython2",
   "version": "2.7.6"
  }
 },
 "nbformat": 4,
 "nbformat_minor": 5
}
