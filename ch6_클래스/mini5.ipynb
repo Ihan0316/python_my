{
 "cells": [
  {
   "cell_type": "code",
   "execution_count": 3,
   "id": "initial_id",
   "metadata": {
    "ExecuteTime": {
     "end_time": "2025-02-14T01:43:17.374935Z",
     "start_time": "2025-02-14T01:43:17.371239Z"
    },
    "collapsed": true
   },
   "outputs": [
    {
     "name": "stdout",
     "output_type": "stream",
     "text": [
      "안녕하세요, 저는 철수이고 25살입니다.\n"
     ]
    }
   ],
   "source": [
    "#1\n",
    "class Person:\n",
    "    def __init__(self, name, age):\n",
    "        self.name = name\n",
    "        self.age = age\n",
    "\n",
    "    def introduce(self):\n",
    "        print(f\"안녕하세요, 저는 {self.name}이고 {self.age}살입니다.\")\n",
    "\n",
    "p = Person('철수', 25)\n",
    "p.introduce()"
   ]
  },
  {
   "cell_type": "code",
   "id": "cdd598e2599d5f2a",
   "metadata": {
    "ExecuteTime": {
     "end_time": "2025-02-14T02:30:35.872234Z",
     "start_time": "2025-02-14T02:30:35.869120Z"
    }
   },
   "source": [
    "#2\n",
    "class Animal:\n",
    "    def __init__(self, name, age):\n",
    "        self.name = name\n",
    "        self.age = age\n",
    "    def speak(self):\n",
    "        print(\"말하기\")\n",
    "\n",
    "haru = Animal(\"haru\", 3)\n",
    "haru.speak()"
   ],
   "outputs": [
    {
     "name": "stdout",
     "output_type": "stream",
     "text": [
      "말하기\n"
     ]
    }
   ],
   "execution_count": 19
  },
  {
   "cell_type": "code",
   "id": "7a5d74ddafbbc4d",
   "metadata": {
    "ExecuteTime": {
     "end_time": "2025-02-14T02:31:42.193687Z",
     "start_time": "2025-02-14T02:31:42.190078Z"
    }
   },
   "source": [
    "#3\n",
    "class Dog(Animal):\n",
    "    def __init__(self, name, age, favorite_food, friend_list):\n",
    "        super().__init__(name, age)\n",
    "        self.favorite_food = favorite_food\n",
    "        self.__friend_list = friend_list\n",
    "    def add_friend(self, friend):\n",
    "        self.__friend_list.append(friend)\n",
    "    def get_friends(self):\n",
    "        return self.__friend_list\n",
    "\n",
    "    def speak(self):\n",
    "        print(\"멍멍\")\n",
    "    def show_food(self):\n",
    "        print(f\"좋아하는 음식: {self.favorite_food}\")\n",
    "koong = Dog(\"koong\", 3, \"당근\",[\"haru\",\"maru\"])\n",
    "koong.speak()\n",
    "koong.show_food()\n",
    "koong.get_friends()\n",
    "koong.add_friend(\"lsy30\")\n",
    "koong.get_friends()"
   ],
   "outputs": [
    {
     "name": "stdout",
     "output_type": "stream",
     "text": [
      "멍멍\n",
      "좋아하는 음식: 당근\n"
     ]
    },
    {
     "data": {
      "text/plain": [
       "['haru', 'maru', 'lsy30']"
      ]
     },
     "execution_count": 21,
     "metadata": {},
     "output_type": "execute_result"
    }
   ],
   "execution_count": 21
  },
  {
   "cell_type": "code",
   "id": "57929acbc0578f4b",
   "metadata": {
    "ExecuteTime": {
     "end_time": "2025-02-14T02:32:37.863218Z",
     "start_time": "2025-02-14T02:32:37.858483Z"
    }
   },
   "source": [
    "#4\n",
    "class Cat(Animal):\n",
    "    def __init__(self, name, age, favorite_food, friend_list):\n",
    "        super().__init__(name, age)\n",
    "        self.favorite_food = favorite_food\n",
    "        self.__friend_list = friend_list\n",
    "    def add_friend(self, friend):\n",
    "        self.__friend_list.append(friend)\n",
    "    def get_friends(self):\n",
    "        return self.__friend_list\n",
    "\n",
    "    def speak(self):\n",
    "        print(\"야옹\")\n",
    "    def show_food(self):\n",
    "        print(f\"좋아하는 음식: {self.favorite_food}\")\n",
    "\n",
    "navi = Cat(\"navi\", 20, \"생선\",[\"koong\",\"maru\"])\n",
    "navi.speak()\n",
    "navi.show_food()\n",
    "navi.get_friends()\n",
    "navi.add_friend(\"haru\")\n",
    "navi.get_friends()"
   ],
   "outputs": [
    {
     "name": "stdout",
     "output_type": "stream",
     "text": [
      "야옹\n",
      "좋아하는 음식: 생선\n"
     ]
    },
    {
     "data": {
      "text/plain": [
       "['koong', 'maru', 'haru']"
      ]
     },
     "execution_count": 22,
     "metadata": {},
     "output_type": "execute_result"
    }
   ],
   "execution_count": 22
  },
  {
   "cell_type": "code",
   "id": "4185667e41279c3c",
   "metadata": {
    "ExecuteTime": {
     "end_time": "2025-02-14T02:19:38.238010Z",
     "start_time": "2025-02-14T02:19:14.270401Z"
    }
   },
   "source": [
    "#5\n",
    "class BankAccount:\n",
    "    def __init__(self, owner, balance):\n",
    "        self.owner = owner\n",
    "        self.__balance = balance  # private 속성\n",
    "\n",
    "    def get_balance(self):\n",
    "        \"\"\"잔액을 반환하는 getter 메서드\"\"\"\n",
    "        return self.__balance\n",
    "\n",
    "    def deposit(self, amount):\n",
    "        \"\"\"입금하는 setter 메서드. 양수의 금액만 입금 가능.\"\"\"\n",
    "        if amount > 0:\n",
    "            self.__balance += amount\n",
    "        else:\n",
    "            raise ValueError(\"입금액은 양수여야 합니다.\")\n",
    "\n",
    "\n",
    "if __name__ == \"__main__\":\n",
    "    owner = input(\"계좌 소유자의 이름을 입력하세요: \")\n",
    "    while True:\n",
    "        try:\n",
    "            initial_balance = int(input(\"초기 잔액을 정수로 입력하세요: \"))\n",
    "            if initial_balance < 0:\n",
    "                print(\"잔액은 0 이상이어야 합니다. 다시 입력해주세요.\")\n",
    "                continue\n",
    "            break\n",
    "        except ValueError:\n",
    "            print(\"오류: 잔액은 정수여야 합니다. 다시 입력해주세요.\")\n",
    "\n",
    "    account = BankAccount(owner, initial_balance)\n",
    "    print(f\"{owner}님의 현재 잔액: {account.get_balance()}원\")\n",
    "\n",
    "    # 입금 테스트\n",
    "    while True:\n",
    "        try:\n",
    "            deposit_amount = int(input(\"입금할 금액을 입력하세요 (0 입력시 종료): \"))\n",
    "            if deposit_amount == 0:\n",
    "                break\n",
    "            account.deposit(deposit_amount)\n",
    "            print(f\"입금 후 잔액: {account.get_balance()}원\")\n",
    "        except ValueError as e:\n",
    "            print(f\"오류: {e}\")"
   ],
   "outputs": [
    {
     "name": "stdout",
     "output_type": "stream",
     "text": [
      "ihan님의 현재 잔액: 1000원\n",
      "입금 후 잔액: 1050원\n",
      "입금 후 잔액: 1090원\n",
      "입금 후 잔액: 1120원\n"
     ]
    }
   ],
   "execution_count": 5
  },
  {
   "cell_type": "code",
   "id": "e85947ad",
   "metadata": {
    "ExecuteTime": {
     "end_time": "2025-02-14T02:32:55.851600Z",
     "start_time": "2025-02-14T02:32:55.849152Z"
    }
   },
   "source": [
    "#6\n",
    "class Employee:\n",
    "    def __init__(self, name, position, salary):\n",
    "        self.name = name\n",
    "        self.position = position\n",
    "        self.salary = salary\n",
    "\n",
    "    def get_info(self):\n",
    "        return f\"Name: {self.name}, Position: {self.position}, Salary: {self.salary}\"\n",
    "\n",
    "\n",
    "employee = Employee(\"Ihan\", \"Software Engineer\", 100000)\n",
    "print(employee.get_info())"
   ],
   "outputs": [
    {
     "name": "stdout",
     "output_type": "stream",
     "text": [
      "Name: Ihan, Position: Software Engineer, Salary: 100000\n"
     ]
    }
   ],
   "execution_count": 23
  },
  {
   "metadata": {
    "ExecuteTime": {
     "end_time": "2025-02-14T02:28:09.161326Z",
     "start_time": "2025-02-14T02:28:09.156946Z"
    }
   },
   "cell_type": "code",
   "source": [
    "#7\n",
    "class Book:\n",
    "    def __init__(self, title, author):\n",
    "        self.title = title\n",
    "        self.author = author\n",
    "\n",
    "    def get_info(self):\n",
    "        return f\"Title: {self.title}, Author: {self.author}\"\n",
    "\n",
    "class Ebook(Book):\n",
    "    def __init__(self, title, author, size):\n",
    "        super().__init__(title, author)\n",
    "        self.size = size\n",
    "\n",
    "    def get_info(self):\n",
    "        return f\"Title: {self.title}, Author: {self.author}, Size: {self.size} MB\"\n",
    "\n",
    "class PaperBook(Book):\n",
    "    def __init__(self, title, author, pages):\n",
    "        super().__init__(title, author)\n",
    "        self.pages = pages\n",
    "\n",
    "    def get_info(self):\n",
    "        return f\"Title: {self.title}, Author: {self.author}, Pages: {self.pages} pages\"\n",
    "\n",
    "book = Book(\"book1\", \"ihan1\")\n",
    "print(book.get_info())\n",
    "\n",
    "paperbook = PaperBook(\"book2\", \"ihan2\", 100)\n",
    "print(paperbook.get_info())\n",
    "\n",
    "ebook = Ebook(\"book3\", \"ihan3\", 10)\n",
    "print(ebook.get_info())"
   ],
   "id": "ca25813884fe62bd",
   "outputs": [
    {
     "name": "stdout",
     "output_type": "stream",
     "text": [
      "Title: book1, Author: ihan1\n",
      "Title: book2, Author: ihan2, Pages: 100 pages\n",
      "Title: book3, Author: ihan3, Size: 10 MB\n"
     ]
    }
   ],
   "execution_count": 16
  },
  {
   "metadata": {
    "ExecuteTime": {
     "end_time": "2025-02-14T02:26:33.152645Z",
     "start_time": "2025-02-14T02:26:33.149356Z"
    }
   },
   "cell_type": "code",
   "source": [
    "#8\n",
    "class Car:\n",
    "    def __init__(self, model, fuel):\n",
    "        self.model = model\n",
    "        self.__fuel = fuel  # 연료 잔량을 private으로 설정\n",
    "\n",
    "    def get_fuel(self):\n",
    "        \"\"\"현재 연료 잔량을 반환합니다.\"\"\"\n",
    "        return self.__fuel\n",
    "\n",
    "    def drive(self, distance):\n",
    "        \"\"\"\n",
    "        주어진 거리를 주행합니다.\n",
    "        주행 시 연료 소모량은 거리당 0.1L로 가정합니다.\n",
    "        \"\"\"\n",
    "        fuel_needed = distance * 0.1\n",
    "        if self.__fuel >= fuel_needed:\n",
    "            self.__fuel -= fuel_needed\n",
    "            print(f\"{distance}km 주행하였습니다. 남은 연료: {self.__fuel:.2f}L\")\n",
    "        else:\n",
    "            print(\"연료가 부족하여 주행할 수 없습니다.\")\n",
    "\n",
    "    def refuel(self, amount):\n",
    "        \"\"\"주어진 양만큼 연료를 추가합니다.\"\"\"\n",
    "        self.__fuel += amount\n",
    "        print(f\"{amount}L 주유하였습니다. 현재 연료: {self.__fuel:.2f}L\")\n",
    "\n",
    "my_car = Car(\"Hyundai Sonata\", 50)  # 모델명과 초기 연료량 설정\n",
    "print(f\"차량 모델: {my_car.model}\")\n",
    "print(f\"현재 연료: {my_car.get_fuel()}L\")\n",
    "\n",
    "my_car.drive(100)\n",
    "my_car.refuel(20)\n",
    "my_car.drive(200)\n",
    "my_car.drive(400)"
   ],
   "id": "e142c55d0e31c7de",
   "outputs": [
    {
     "name": "stdout",
     "output_type": "stream",
     "text": [
      "차량 모델: Hyundai Sonata\n",
      "현재 연료: 50L\n",
      "100km 주행하였습니다. 남은 연료: 40.00L\n",
      "20L 주유하였습니다. 현재 연료: 60.00L\n",
      "200km 주행하였습니다. 남은 연료: 40.00L\n",
      "400km 주행하였습니다. 남은 연료: 0.00L\n"
     ]
    }
   ],
   "execution_count": 13
  }
 ],
 "metadata": {
  "kernelspec": {
   "display_name": "Python 3",
   "language": "python",
   "name": "python3"
  },
  "language_info": {
   "codemirror_mode": {
    "name": "ipython",
    "version": 2
   },
   "file_extension": ".py",
   "mimetype": "text/x-python",
   "name": "python",
   "nbconvert_exporter": "python",
   "pygments_lexer": "ipython2",
   "version": "2.7.6"
  }
 },
 "nbformat": 4,
 "nbformat_minor": 5
}
