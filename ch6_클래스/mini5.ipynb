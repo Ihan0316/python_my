{
 "cells": [
  {
   "cell_type": "code",
   "id": "initial_id",
   "metadata": {
    "collapsed": true,
    "ExecuteTime": {
     "end_time": "2025-02-14T02:42:33.734825Z",
     "start_time": "2025-02-14T02:42:33.732744Z"
    }
   },
   "source": [
    "#1\n",
    "class Person:\n",
    "    def __init__(self, name, age):\n",
    "        self.name = name\n",
    "        self.age = age\n",
    "\n",
    "    def introduce(self):\n",
    "        print(f\"안녕하세요, 저는 {self.name}이고 {self.age}살입니다.\")\n",
    "\n",
    "p = Person('철수', 25)\n",
    "p.introduce()"
   ],
   "outputs": [
    {
     "name": "stdout",
     "output_type": "stream",
     "text": [
      "안녕하세요, 저는 철수이고 25살입니다.\n"
     ]
    }
   ],
   "execution_count": 5
  },
  {
   "cell_type": "code",
   "id": "cdd598e2599d5f2a",
   "metadata": {
    "ExecuteTime": {
     "end_time": "2025-02-14T02:42:25.423166Z",
     "start_time": "2025-02-14T02:42:25.420722Z"
    }
   },
   "source": [
    "#2\n",
    "class Animal:\n",
    "    def __init__(self, name, age):\n",
    "        self.name = name\n",
    "        self.age = age\n",
    "    def sound(self):\n",
    "        print(\"말하기\")\n",
    "\n",
    "haru = Animal(\"haru\", 3)\n",
    "haru.sound()"
   ],
   "outputs": [
    {
     "name": "stdout",
     "output_type": "stream",
     "text": [
      "말하기\n"
     ]
    }
   ],
   "execution_count": 2
  },
  {
   "cell_type": "code",
   "id": "7a5d74ddafbbc4d",
   "metadata": {
    "ExecuteTime": {
     "end_time": "2025-02-14T02:42:26.849063Z",
     "start_time": "2025-02-14T02:42:26.843246Z"
    }
   },
   "source": [
    "#3\n",
    "class Dog(Animal):\n",
    "    def __init__(self, name, age, favorite_food, friend_list):\n",
    "        super().__init__(name, age)\n",
    "        self.favorite_food = favorite_food\n",
    "        self.__friend_list = friend_list\n",
    "    def add_friend(self, friend):\n",
    "        self.__friend_list.append(friend)\n",
    "    def get_friends(self):\n",
    "        return self.__friend_list\n",
    "\n",
    "    def sound(self):\n",
    "        print(\"멍멍\")\n",
    "    def show_food(self):\n",
    "        print(f\"좋아하는 음식: {self.favorite_food}\")\n",
    "koong = Dog(\"koong\", 3, \"당근\",[\"haru\",\"maru\"])\n",
    "koong.sound()\n",
    "koong.show_food()\n",
    "koong.get_friends()\n",
    "koong.add_friend(\"lsy30\")\n",
    "koong.get_friends()"
   ],
   "outputs": [
    {
     "name": "stdout",
     "output_type": "stream",
     "text": [
      "멍멍\n",
      "좋아하는 음식: 당근\n"
     ]
    },
    {
     "data": {
      "text/plain": [
       "['haru', 'maru', 'lsy30']"
      ]
     },
     "execution_count": 3,
     "metadata": {},
     "output_type": "execute_result"
    }
   ],
   "execution_count": 3
  },
  {
   "cell_type": "code",
   "id": "57929acbc0578f4b",
   "metadata": {
    "ExecuteTime": {
     "end_time": "2025-02-14T02:42:30.319107Z",
     "start_time": "2025-02-14T02:42:30.313955Z"
    }
   },
   "source": [
    "#4\n",
    "class Cat(Animal):\n",
    "    def __init__(self, name, age, favorite_food, friend_list):\n",
    "        super().__init__(name, age)\n",
    "        self.favorite_food = favorite_food\n",
    "        self.__friend_list = friend_list\n",
    "    def add_friend(self, friend):\n",
    "        self.__friend_list.append(friend)\n",
    "    def get_friends(self):\n",
    "        return self.__friend_list\n",
    "\n",
    "    def sound(self):\n",
    "        print(\"야옹\")\n",
    "    def show_food(self):\n",
    "        print(f\"좋아하는 음식: {self.favorite_food}\")\n",
    "\n",
    "navi = Cat(\"navi\", 20, \"생선\",[\"koong\",\"maru\"])\n",
    "navi.sound()\n",
    "navi.show_food()\n",
    "navi.get_friends()\n",
    "navi.add_friend(\"haru\")\n",
    "navi.get_friends()"
   ],
   "outputs": [
    {
     "name": "stdout",
     "output_type": "stream",
     "text": [
      "야옹\n",
      "좋아하는 음식: 생선\n"
     ]
    },
    {
     "data": {
      "text/plain": [
       "['koong', 'maru', 'haru']"
      ]
     },
     "execution_count": 4,
     "metadata": {},
     "output_type": "execute_result"
    }
   ],
   "execution_count": 4
  },
  {
   "cell_type": "code",
   "id": "4185667e41279c3c",
   "metadata": {
    "ExecuteTime": {
     "end_time": "2025-02-14T03:14:58.975905Z",
     "start_time": "2025-02-14T03:14:58.972596Z"
    }
   },
   "source": [
    "#5\n",
    "class BankAccount:\n",
    "    def __init__(self, owner, balance):\n",
    "        self.owner = owner\n",
    "        self.__balance = balance  # private 속성\n",
    "\n",
    "    def get_balance(self):\n",
    "        \"\"\"잔액을 반환하는 getter 메서드\"\"\"\n",
    "        return self.__balance\n",
    "\n",
    "    def deposit(self, amount):\n",
    "        \"\"\"입금하는 setter 메서드. 양수의 금액만 입금 가능.\"\"\"\n",
    "        if amount > 0:\n",
    "            self.__balance += amount\n",
    "            print(f\"{amount} 원이 입금 되었습니다.\")\n",
    "        else:\n",
    "            print(f\"입금액이 양수여야 합니다.\")\n",
    "\n",
    "account = BankAccount(\"ihan\", 1000)\n",
    "owner = account.owner\n",
    "print(f\"{owner}님 현재 잔액은: {account.get_balance()}원 입니다.\")\n",
    "\n",
    "account.deposit(500)\n",
    "\n",
    "print(f\"{owner}님 현재 잔액은: {account.get_balance()}원 입니다.\")"
   ],
   "outputs": [
    {
     "name": "stdout",
     "output_type": "stream",
     "text": [
      "ihan님 현재 잔액은: 1000원 입니다.\n",
      "500 원이 입금 되었습니다.\n",
      "ihan님 현재 잔액은: 1500원 입니다.\n"
     ]
    }
   ],
   "execution_count": 17
  },
  {
   "cell_type": "code",
   "id": "e85947ad",
   "metadata": {
    "ExecuteTime": {
     "end_time": "2025-02-14T03:18:13.709172Z",
     "start_time": "2025-02-14T03:18:13.706621Z"
    }
   },
   "source": [
    "#6\n",
    "class Employee:\n",
    "    def __init__(self, name, position, salary):\n",
    "        self.name = name\n",
    "        self.position = position\n",
    "        self.salary = salary\n",
    "\n",
    "    def get_info(self):\n",
    "        return f\"이름: {self.name}, 직급: {self.position}, 급여: {self.salary}\"\n",
    "\n",
    "\n",
    "employee = Employee(\"Ihan\", \"Software Engineer\", 100000)\n",
    "print(employee.get_info())"
   ],
   "outputs": [
    {
     "name": "stdout",
     "output_type": "stream",
     "text": [
      "이름: Ihan, 직급: Software Engineer, 급여: 100000\n"
     ]
    }
   ],
   "execution_count": 19
  },
  {
   "metadata": {
    "ExecuteTime": {
     "end_time": "2025-02-14T03:27:37.036981Z",
     "start_time": "2025-02-14T03:27:37.033995Z"
    }
   },
   "cell_type": "code",
   "source": [
    "#7\n",
    "class Book:\n",
    "    def __init__(self, title, author):\n",
    "        self.title = title\n",
    "        self.author = author\n",
    "\n",
    "    def get_info(self):\n",
    "        return f\"제목: {self.title}, 저자: {self.author}\"\n",
    "\n",
    "class Ebook(Book):\n",
    "    def __init__(self, title, author, size, price):\n",
    "        super().__init__(title, author)\n",
    "        self.size = size\n",
    "        self.price = price\n",
    "\n",
    "    def get_info(self):\n",
    "        return f\"제목: {self.title}, 저자: {self.author}, 크기: {self.size} MB, 가격: {self.price}원\"\n",
    "\n",
    "class PaperBook(Book):\n",
    "    def __init__(self, title, author, pages, price):\n",
    "        super().__init__(title, author)\n",
    "        self.pages = pages\n",
    "        self.price = price\n",
    "\n",
    "    def get_info(self):\n",
    "        return f\"제목: {self.title}, 저자: {self.author}, 페이지: {self.pages} pages, 가격: {self.price}원\"\n",
    "\n",
    "paperbook = PaperBook(\"book1\", \"ihan1\", 100, 10000)\n",
    "print(paperbook.get_info())\n",
    "\n",
    "ebook = Ebook(\"book2\", \"ihan2\", 10, 20000)\n",
    "print(ebook.get_info())"
   ],
   "id": "e142c55d0e31c7de",
   "outputs": [
    {
     "name": "stdout",
     "output_type": "stream",
     "text": [
      "제목: book1, 저자: ihan1, 페이지: 100 pages, 가격: 10000원\n",
      "제목: book2, 저자: ihan2, 크기: 10 MB, 가격: 20000원\n"
     ]
    }
   ],
   "execution_count": 25
  },
  {
   "metadata": {
    "ExecuteTime": {
     "end_time": "2025-02-14T03:27:38.985806Z",
     "start_time": "2025-02-14T03:27:38.982046Z"
    }
   },
   "cell_type": "code",
   "source": [
    "#8\n",
    "class Car:\n",
    "    def __init__(self, model, fuel):\n",
    "        self.model = model\n",
    "        self.__fuel = fuel\n",
    "\n",
    "    def get_fuel(self):\n",
    "        return self.__fuel\n",
    "\n",
    "    def drive(self, distance):\n",
    "        fuel_needed = distance * 0.1    # 1km에 0.1L의 연료를 사용\n",
    "        if self.__fuel >= fuel_needed:\n",
    "            self.__fuel -= fuel_needed\n",
    "            print(f\"{distance}km 주행하였습니다. 남은 연료: {self.__fuel:.2f}L\")\n",
    "        else:\n",
    "            print(\"연료가 부족하여 주행할 수 없습니다.\")\n",
    "\n",
    "    def refuel(self, amount):\n",
    "        self.__fuel += amount\n",
    "        print(f\"{amount}L 주유하였습니다. 현재 연료: {self.__fuel:.2f}L\")\n",
    "\n",
    "my_car = Car(\"Hyundai Sonata\", 50)\n",
    "print(f\"차량 모델: {my_car.model}\")\n",
    "print(f\"현재 연료: {my_car.get_fuel()}L\")\n",
    "\n",
    "my_car.drive(100)\n",
    "my_car.refuel(20)\n",
    "my_car.drive(200)\n",
    "my_car.drive(400)\n"
   ],
   "id": "ca25813884fe62bd",
   "outputs": [
    {
     "name": "stdout",
     "output_type": "stream",
     "text": [
      "차량 모델: Hyundai Sonata\n",
      "현재 연료: 50L\n",
      "100km 주행하였습니다. 남은 연료: 40.00L\n",
      "20L 주유하였습니다. 현재 연료: 60.00L\n",
      "200km 주행하였습니다. 남은 연료: 40.00L\n",
      "400km 주행하였습니다. 남은 연료: 0.00L\n"
     ]
    }
   ],
   "execution_count": 26
  }
 ],
 "metadata": {
  "kernelspec": {
   "display_name": "Python 3",
   "language": "python",
   "name": "python3"
  },
  "language_info": {
   "codemirror_mode": {
    "name": "ipython",
    "version": 2
   },
   "file_extension": ".py",
   "mimetype": "text/x-python",
   "name": "python",
   "nbconvert_exporter": "python",
   "pygments_lexer": "ipython2",
   "version": "2.7.6"
  }
 },
 "nbformat": 4,
 "nbformat_minor": 5
}
