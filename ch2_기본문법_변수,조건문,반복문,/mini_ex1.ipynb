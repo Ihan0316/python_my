{
 "cells": [
  {
   "cell_type": "markdown",
   "metadata": {},
   "source": [
    "문제 1: 홀수/짝수 판별\n",
    "사용자로부터 숫자를 입력받아 홀수인지 짝수인지 판별하세요.\n",
    "\n",
    "함수 이용,\n",
    "input(), print(f\"\") 이용,\n",
    "\n",
    "🔹 입력 예시\n",
    "\n",
    "숫자를 입력하세요: 7\n",
    "\n",
    "🔹 출력 예시\n",
    "\n",
    "7은(는) 홀수입니다."
   ]
  },
  {
   "cell_type": "code",
   "execution_count": 1,
   "metadata": {},
   "outputs": [
    {
     "name": "stdout",
     "output_type": "stream",
     "text": [
      "7 홀수입니다.\n"
     ]
    }
   ],
   "source": [
    "num = int(input(\"숫자를 입력하세요: \"))\n",
    "if num % 2 == 0:\n",
    "  print(f\"{num} 짝수입니다.\")\n",
    "else:\n",
    "  print(f\"{num} 홀수입니다.\")"
   ]
  },
  {
   "cell_type": "code",
   "execution_count": 2,
   "metadata": {},
   "outputs": [
    {
     "name": "stdout",
     "output_type": "stream",
     "text": [
      "1부터 10 까지 합 : 55입니다.\n"
     ]
    }
   ],
   "source": [
    "N = int(input(\"N를 입력하세요: \"))\n",
    "total = sum(range(1,N + 1))\n",
    "print(f\"1부터 {N} 까지 합 : {total}입니다.\")"
   ]
  },
  {
   "cell_type": "code",
   "execution_count": 7,
   "metadata": {},
   "outputs": [
    {
     "name": "stdout",
     "output_type": "stream",
     "text": [
      "['10', '20', '30']\n",
      "<map object at 0x00000278BD0602B0>\n",
      "[10, 20, 30]\n",
      "최댓값: 30\n"
     ]
    }
   ],
   "source": [
    "aList = input(\"공백으로 구분하여 숫자를 입력해주세요. :\").split()\n",
    "print(aList)\n",
    "b = map(int,aList)\n",
    "print(b)\n",
    "result = list(b)\n",
    "print(result)\n",
    "print(f\"최댓값: {max(result)}\")\n"
   ]
  },
  {
   "cell_type": "code",
   "execution_count": 8,
   "metadata": {},
   "outputs": [
    {
     "name": "stdout",
     "output_type": "stream",
     "text": [
      "찾을 a의 갯수는 : 3입니다.\n"
     ]
    }
   ],
   "source": [
    "text = input(\"문자열을 입력: \")\n",
    "char = input(\"찾을 문자열을 입력: \")\n",
    "count = text.count(char)\n",
    "print(f\"찾을 {char}의 갯수는 : {count}입니다.\")"
   ]
  },
  {
   "cell_type": "code",
   "execution_count": 9,
   "metadata": {},
   "outputs": [
    {
     "name": "stdout",
     "output_type": "stream",
     "text": [
      "[5, 3, 8, 3, 1, 5, 7]\n",
      "{1, 3, 5, 7, 8}\n",
      "[1, 3, 5, 7, 8]\n"
     ]
    }
   ],
   "source": [
    "numList = list(map(int,input(\"공백으로 구분하여 숫자 입력:\").split()))\n",
    "print(numList)\n",
    "print(set(numList))\n",
    "print(sorted(set(numList)))\n",
    "\n"
   ]
  },
  {
   "cell_type": "code",
   "execution_count": 11,
   "metadata": {},
   "outputs": [
    {
     "name": "stdout",
     "output_type": "stream",
     "text": [
      "3 단: \n",
      "3 x 1 = 3\n",
      "3 x 2 = 6\n",
      "3 x 3 = 9\n",
      "3 x 4 = 12\n",
      "3 x 5 = 15\n",
      "3 x 6 = 18\n",
      "3 x 7 = 21\n",
      "3 x 8 = 24\n",
      "3 x 9 = 27\n",
      "3 단: \n",
      "4 x 1 = 4\n",
      "4 x 2 = 8\n",
      "4 x 3 = 12\n",
      "4 x 4 = 16\n",
      "4 x 5 = 20\n",
      "4 x 6 = 24\n",
      "4 x 7 = 28\n",
      "4 x 8 = 32\n",
      "4 x 9 = 36\n",
      "3 단: \n",
      "5 x 1 = 5\n",
      "5 x 2 = 10\n",
      "5 x 3 = 15\n",
      "5 x 4 = 20\n",
      "5 x 5 = 25\n",
      "5 x 6 = 30\n",
      "5 x 7 = 35\n",
      "5 x 8 = 40\n",
      "5 x 9 = 45\n"
     ]
    }
   ],
   "source": [
    "start = int(input(\"시작 단 입력 : \"))\n",
    "end = int(input(\"끝 단 입력 : \"))\n",
    "for dan in range(start, end + 1):\n",
    "    print(f\"{start} 단: \")\n",
    "    for num in range(1,10):\n",
    "        print(f\"{dan} x {num} = {dan * num}\")"
   ]
  }
 ],
 "metadata": {
  "kernelspec": {
   "display_name": "Python 3",
   "language": "python",
   "name": "python3"
  },
  "language_info": {
   "codemirror_mode": {
    "name": "ipython",
    "version": 3
   },
   "file_extension": ".py",
   "mimetype": "text/x-python",
   "name": "python",
   "nbconvert_exporter": "python",
   "pygments_lexer": "ipython3",
   "version": "3.13.2"
  }
 },
 "nbformat": 4,
 "nbformat_minor": 2
}
