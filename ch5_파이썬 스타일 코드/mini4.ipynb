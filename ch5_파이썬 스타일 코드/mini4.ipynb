{
 "cells": [
  {
   "cell_type": "code",
   "id": "initial_id",
   "metadata": {
    "collapsed": true,
    "ExecuteTime": {
     "end_time": "2025-02-13T08:03:41.362058Z",
     "start_time": "2025-02-13T08:03:41.359652Z"
    }
   },
   "source": [
    "#1\n",
    "list = [i**2 for i in range(1, 11)]\n",
    "print(list)"
   ],
   "outputs": [
    {
     "name": "stdout",
     "output_type": "stream",
     "text": [
      "[1, 4, 9, 16, 25, 36, 49, 64, 81, 100]\n"
     ]
    }
   ],
   "execution_count": 1
  },
  {
   "metadata": {
    "ExecuteTime": {
     "end_time": "2025-02-13T08:07:04.428375Z",
     "start_time": "2025-02-13T08:07:04.426269Z"
    }
   },
   "cell_type": "code",
   "source": [
    "#2\n",
    "fruit = [\"사과\", \"바나나\", \"체리\"]\n",
    "for index, value in enumerate(fruit):\n",
    "    print(f\"인덱스\",index,\"값 : \",value)"
   ],
   "id": "19f18d73af5d768d",
   "outputs": [
    {
     "name": "stdout",
     "output_type": "stream",
     "text": [
      "인덱스 0 값 :  사과\n",
      "인덱스 1 값 :  바나나\n",
      "인덱스 2 값 :  체리\n"
     ]
    }
   ],
   "execution_count": 5
  },
  {
   "metadata": {
    "ExecuteTime": {
     "end_time": "2025-02-13T08:08:52.176305Z",
     "start_time": "2025-02-13T08:08:52.173833Z"
    }
   },
   "cell_type": "code",
   "source": [
    "#3\n",
    "names = [\"철수\", \"영희\", \"민수\"]\n",
    "scores = [85, 90, 78]\n",
    "\n",
    "for a,b in zip(names,scores):\n",
    "  print(f\"이름 : {a}, 점수 : {b}\")"
   ],
   "id": "17895a4d464a8840",
   "outputs": [
    {
     "name": "stdout",
     "output_type": "stream",
     "text": [
      "이름 : 철수, 점수 : 85\n",
      "이름 : 영희, 점수 : 90\n",
      "이름 : 민수, 점수 : 78\n"
     ]
    }
   ],
   "execution_count": 10
  },
  {
   "metadata": {
    "ExecuteTime": {
     "end_time": "2025-02-13T08:12:54.784151Z",
     "start_time": "2025-02-13T08:12:54.781960Z"
    }
   },
   "cell_type": "code",
   "source": [
    "#4\n",
    "numbers = [1, 2, 3, 4, 5]\n",
    "cubes = list(map(lambda x: x**3, numbers))\n",
    "print(cubes)"
   ],
   "id": "81d3b6cc9e84e747",
   "outputs": [
    {
     "name": "stdout",
     "output_type": "stream",
     "text": [
      "[1, 8, 27, 64, 125]\n"
     ]
    }
   ],
   "execution_count": 3
  },
  {
   "metadata": {
    "ExecuteTime": {
     "end_time": "2025-02-13T08:13:53.360413Z",
     "start_time": "2025-02-13T08:13:53.356060Z"
    }
   },
   "cell_type": "code",
   "source": [
    "#5\n",
    "def sum_numbers(*args):\n",
    "    return sum(args)\n",
    "\n",
    "sum_numbers(1,2,3,4,5)"
   ],
   "id": "d011cc4f6f7a7dc4",
   "outputs": [
    {
     "data": {
      "text/plain": [
       "15"
      ]
     },
     "execution_count": 6,
     "metadata": {},
     "output_type": "execute_result"
    }
   ],
   "execution_count": 6
  },
  {
   "metadata": {
    "ExecuteTime": {
     "end_time": "2025-02-13T08:14:37.923466Z",
     "start_time": "2025-02-13T08:14:37.921122Z"
    }
   },
   "cell_type": "code",
   "source": [
    "#6\n",
    "def print_user_info(**kwargs):\n",
    "    for key, value in kwargs.items():\n",
    "        print(f\"{key} : {value}\")\n",
    "\n",
    "print_user_info(name=\"John\", age=25, address=\"Seoul\")"
   ],
   "id": "aad1188004bc7878",
   "outputs": [
    {
     "name": "stdout",
     "output_type": "stream",
     "text": [
      "name : John\n",
      "age : 25\n",
      "address : Seoul\n"
     ]
    }
   ],
   "execution_count": 7
  },
  {
   "metadata": {
    "ExecuteTime": {
     "end_time": "2025-02-13T08:16:02.698962Z",
     "start_time": "2025-02-13T08:16:02.696505Z"
    }
   },
   "cell_type": "code",
   "source": [
    "#7\n",
    "list1 = [1,2,3,4,5]\n",
    "list2 = [\"a\",\"b\",\"c\",\"d\",\"e\"]\n",
    "\n",
    "merged_list = [*list1, *list2]\n",
    "print(merged_list)"
   ],
   "id": "12a5a475a2cf1af",
   "outputs": [
    {
     "name": "stdout",
     "output_type": "stream",
     "text": [
      "[1, 2, 3, 4, 5, 'a', 'b', 'c', 'd', 'e']\n"
     ]
    }
   ],
   "execution_count": 8
  }
 ],
 "metadata": {
  "kernelspec": {
   "display_name": "Python 3",
   "language": "python",
   "name": "python3"
  },
  "language_info": {
   "codemirror_mode": {
    "name": "ipython",
    "version": 2
   },
   "file_extension": ".py",
   "mimetype": "text/x-python",
   "name": "python",
   "nbconvert_exporter": "python",
   "pygments_lexer": "ipython2",
   "version": "2.7.6"
  }
 },
 "nbformat": 4,
 "nbformat_minor": 5
}
