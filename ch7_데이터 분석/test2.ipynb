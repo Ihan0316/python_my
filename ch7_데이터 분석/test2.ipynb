{
 "cells": [
  {
   "cell_type": "code",
   "id": "initial_id",
   "metadata": {
    "collapsed": true,
    "ExecuteTime": {
     "end_time": "2025-02-14T06:32:01.554466Z",
     "start_time": "2025-02-14T06:32:00.240071Z"
    }
   },
   "source": [
    "import numpy as np\n",
    "data = np.genfromtxt('ratings.dat', delimiter=\"::\", dtype=np.int64, autostrip=True)\n",
    "\n",
    "print(\"모든 데이터\")\n",
    "print(data)\n",
    "\n",
    "#UserID\tMovieID\tRating\tTimestamp\n",
    "print(\"처음 5행의 데이터\")\n",
    "print(data[:5,:])\n",
    "\n",
    "print(\"데이터의 형(행, 열)\")\n",
    "print(data.shape)\n",
    "\n",
    "mean_rating_total=data[:,2].mean() #data[:,2] 전체 행, 2번째 열\n",
    "print(\"행의 평균\")\n",
    "print(mean_rating_total)\n",
    "\n",
    "user_ids=np.unique(data[:,0])\n",
    "print(\"사용자 아이디\")\n",
    "print(user_ids)\n",
    "print(len(user_ids))"
   ],
   "outputs": [
    {
     "name": "stdout",
     "output_type": "stream",
     "text": [
      "모든 데이터\n",
      "[[        1      1193         5 978300760]\n",
      " [        1       661         3 978302109]\n",
      " [        1       914         3 978301968]\n",
      " ...\n",
      " [     6040       562         5 956704746]\n",
      " [     6040      1096         4 956715648]\n",
      " [     6040      1097         4 956715569]]\n",
      "처음 5행의 데이터\n",
      "[[        1      1193         5 978300760]\n",
      " [        1       661         3 978302109]\n",
      " [        1       914         3 978301968]\n",
      " [        1      3408         4 978300275]\n",
      " [        1      2355         5 978824291]]\n",
      "데이터의 형(행, 열)\n",
      "(1000209, 4)\n",
      "행의 평균\n",
      "3.581564453029317\n",
      "사용자 아이디\n",
      "[   1    2    3 ... 6038 6039 6040]\n",
      "6040\n"
     ]
    }
   ],
   "execution_count": 12
  }
 ],
 "metadata": {
  "kernelspec": {
   "display_name": "Python 3",
   "language": "python",
   "name": "python3"
  },
  "language_info": {
   "codemirror_mode": {
    "name": "ipython",
    "version": 2
   },
   "file_extension": ".py",
   "mimetype": "text/x-python",
   "name": "python",
   "nbconvert_exporter": "python",
   "pygments_lexer": "ipython2",
   "version": "2.7.6"
  }
 },
 "nbformat": 4,
 "nbformat_minor": 5
}
