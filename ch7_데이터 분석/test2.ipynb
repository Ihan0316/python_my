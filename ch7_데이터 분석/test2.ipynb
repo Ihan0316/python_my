{
 "cells": [
  {
   "cell_type": "code",
   "id": "initial_id",
   "metadata": {
    "collapsed": true,
    "ExecuteTime": {
     "end_time": "2025-02-14T06:32:01.554466Z",
     "start_time": "2025-02-14T06:32:00.240071Z"
    }
   },
   "source": [
    "import numpy as np\n",
    "data = np.genfromtxt('ratings.dat', delimiter=\"::\", dtype=np.int64, autostrip=True)\n",
    "\n",
    "print(\"모든 데이터\")\n",
    "print(data)\n",
    "\n",
    "#UserID\tMovieID\tRating\tTimestamp\n",
    "print(\"처음 5행의 데이터\")\n",
    "print(data[:5,:])\n",
    "\n",
    "print(\"데이터의 형(행, 열)\")\n",
    "print(data.shape)\n",
    "\n",
    "mean_rating_total=data[:,2].mean() #data[:,2] 전체 행, 2번째 열\n",
    "print(\"행의 평균\")\n",
    "print(mean_rating_total)\n",
    "\n",
    "user_ids=np.unique(data[:,0])\n",
    "print(\"사용자 아이디\")\n",
    "print(user_ids)\n",
    "print(len(user_ids))"
   ],
   "outputs": [
    {
     "name": "stdout",
     "output_type": "stream",
     "text": [
      "모든 데이터\n",
      "[[        1      1193         5 978300760]\n",
      " [        1       661         3 978302109]\n",
      " [        1       914         3 978301968]\n",
      " ...\n",
      " [     6040       562         5 956704746]\n",
      " [     6040      1096         4 956715648]\n",
      " [     6040      1097         4 956715569]]\n",
      "처음 5행의 데이터\n",
      "[[        1      1193         5 978300760]\n",
      " [        1       661         3 978302109]\n",
      " [        1       914         3 978301968]\n",
      " [        1      3408         4 978300275]\n",
      " [        1      2355         5 978824291]]\n",
      "데이터의 형(행, 열)\n",
      "(1000209, 4)\n",
      "행의 평균\n",
      "3.581564453029317\n",
      "사용자 아이디\n",
      "[   1    2    3 ... 6038 6039 6040]\n",
      "6040\n"
     ]
    }
   ],
   "execution_count": 12
  },
  {
   "metadata": {
    "ExecuteTime": {
     "end_time": "2025-02-14T06:35:44.005624Z",
     "start_time": "2025-02-14T06:35:38.203739Z"
    }
   },
   "cell_type": "code",
   "source": [
    "mean_values=[]\n",
    "for user_id in user_ids:\n",
    "    # 유저가 남긴 모든 영화 평점에 대해서 모두 수집\n",
    "    data_for_user=data[data[:,0]==user_id,:]\n",
    "    # 수집된 모든 평점을 평균화\n",
    "    value=data_for_user[:,2].mean()\n",
    "    mean_values.append([user_id,value])\n",
    "\n",
    "mean_values[:5] # 전체에서 0~6번행까지만 출력"
   ],
   "id": "e103331c3bb1f3c0",
   "outputs": [
    {
     "data": {
      "text/plain": [
       "[[np.int64(1), np.float64(4.188679245283019)],\n",
       " [np.int64(2), np.float64(3.7131782945736433)],\n",
       " [np.int64(3), np.float64(3.9019607843137254)],\n",
       " [np.int64(4), np.float64(4.190476190476191)],\n",
       " [np.int64(5), np.float64(3.1464646464646466)]]"
      ]
     },
     "execution_count": 15,
     "metadata": {},
     "output_type": "execute_result"
    }
   ],
   "execution_count": 15
  },
  {
   "metadata": {
    "ExecuteTime": {
     "end_time": "2025-02-14T06:37:10.939872Z",
     "start_time": "2025-02-14T06:37:10.934162Z"
    }
   },
   "cell_type": "code",
   "source": [
    "mean_array=np.array(mean_values,dtype=np.float32)\n",
    "print(mean_array[:5])\n",
    "print(mean_array.shape)"
   ],
   "id": "2dd7a010d442ffc5",
   "outputs": [
    {
     "name": "stdout",
     "output_type": "stream",
     "text": [
      "[[1.        4.188679 ]\n",
      " [2.        3.7131784]\n",
      " [3.        3.9019608]\n",
      " [4.        4.1904764]\n",
      " [5.        3.1464646]]\n",
      "(6040, 2)\n"
     ]
    }
   ],
   "execution_count": 16
  },
  {
   "metadata": {
    "ExecuteTime": {
     "end_time": "2025-02-14T06:38:34.694608Z",
     "start_time": "2025-02-14T06:38:34.683370Z"
    }
   },
   "cell_type": "code",
   "source": [
    "np.savetxt(\"/Users/ihanjo/Downloads/result.csv\",mean_array,\n",
    "           fmt=\"%.1f\",delimiter=\",\")"
   ],
   "id": "ef5ce852082baede",
   "outputs": [],
   "execution_count": 19
  }
 ],
 "metadata": {
  "kernelspec": {
   "display_name": "Python 3",
   "language": "python",
   "name": "python3"
  },
  "language_info": {
   "codemirror_mode": {
    "name": "ipython",
    "version": 2
   },
   "file_extension": ".py",
   "mimetype": "text/x-python",
   "name": "python",
   "nbconvert_exporter": "python",
   "pygments_lexer": "ipython2",
   "version": "2.7.6"
  }
 },
 "nbformat": 4,
 "nbformat_minor": 5
}
