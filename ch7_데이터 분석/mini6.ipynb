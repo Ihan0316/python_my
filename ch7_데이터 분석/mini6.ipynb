{
 "cells": [
  {
   "cell_type": "code",
   "id": "initial_id",
   "metadata": {
    "collapsed": true,
    "ExecuteTime": {
     "end_time": "2025-02-14T07:19:25.953155Z",
     "start_time": "2025-02-14T07:19:25.950097Z"
    }
   },
   "source": [
    "import numpy as np\n",
    "\n",
    "arr = np.array([[1, 2, 3], [4, 5, 6], [7, 8, 9]])\n",
    "print(arr)\n",
    "\n",
    "# 첫 번째 행 가져오기\n",
    "arr1 = arr[0]\n",
    "print(f\"첫번째 행 : {arr1}\")\n",
    "#2번째 열만 가져오기\n",
    "arr2 = arr[:,1]\n",
    "print(f\"2번째 열 : {arr2}\")\n",
    "#1행 1열~끝까지\n",
    "arr3 = arr[1:, 1:]\n",
    "print(f\"1행 1열~끝까지 : {arr3}\")"
   ],
   "outputs": [
    {
     "name": "stdout",
     "output_type": "stream",
     "text": [
      "[[1 2 3]\n",
      " [4 5 6]\n",
      " [7 8 9]]\n",
      "첫번째 행 : [1 2 3]\n",
      "2번째 열 : [2 5 8]\n",
      "1행 1열~끝까지 : [[5 6]\n",
      " [8 9]]\n"
     ]
    }
   ],
   "execution_count": 44
  },
  {
   "metadata": {
    "ExecuteTime": {
     "end_time": "2025-02-14T07:23:14.891283Z",
     "start_time": "2025-02-14T07:23:14.887242Z"
    }
   },
   "cell_type": "code",
   "source": [
    "x, y = np.array([1, 2, 3]), np.array([4, 5, 6])\n",
    "\n",
    "print(f\"더하기 : {x+y}\")\n",
    "print(f\"빼기 : {x-y}\")\n",
    "print(f\"곱하기 : {x*y}\")\n",
    "print(f\"나누기 : {x/y}\")"
   ],
   "id": "eff48d3378dc42e0",
   "outputs": [
    {
     "name": "stdout",
     "output_type": "stream",
     "text": [
      "더하기 : [5 7 9]\n",
      "빼기 : [-3 -3 -3]\n",
      "곱하기 : [ 4 10 18]\n",
      "나누기 : [0.25 0.4  0.5 ]\n"
     ]
    }
   ],
   "execution_count": 50
  },
  {
   "metadata": {
    "ExecuteTime": {
     "end_time": "2025-02-14T07:19:28.689846Z",
     "start_time": "2025-02-14T07:19:28.686811Z"
    }
   },
   "cell_type": "code",
   "source": [
    "list_data = [10, 20, 30, 40, 50]\n",
    "\n",
    "numpy_list = np.array(list_data)\n",
    "\n",
    "print(numpy_list)\n",
    "print(type(numpy_list))"
   ],
   "id": "8d56424422202718",
   "outputs": [
    {
     "name": "stdout",
     "output_type": "stream",
     "text": [
      "[10 20 30 40 50]\n",
      "<class 'numpy.ndarray'>\n"
     ]
    }
   ],
   "execution_count": 46
  },
  {
   "metadata": {
    "ExecuteTime": {
     "end_time": "2025-02-14T07:19:29.990235Z",
     "start_time": "2025-02-14T07:19:29.985890Z"
    }
   },
   "cell_type": "code",
   "source": [
    "data = np.genfromtxt('mini_ratings.csv', delimiter=\",\", dtype=float)\n",
    "\n",
    "print(f\"data 전체 : {data[1:]}\")\n",
    "\n",
    "print(f\"처음 5행 : {data[1:6,:]}\")"
   ],
   "id": "92b084ddd48a66c4",
   "outputs": [
    {
     "name": "stdout",
     "output_type": "stream",
     "text": [
      "data 전체 : [[ 3.   6.   3.7]\n",
      " [ 5.  10.   3.1]\n",
      " [ 3.   2.   2.7]\n",
      " [ 1.   9.   1.7]\n",
      " [ 3.   8.   2.4]\n",
      " [ 2.   6.   3.2]\n",
      " [ 2.   5.   3.5]\n",
      " [ 3.   7.   3.1]\n",
      " [ 3.   9.   3.4]\n",
      " [ 4.   7.   3.1]\n",
      " [ 5.   9.   5. ]\n",
      " [ 4.  10.   3.6]\n",
      " [ 2.   4.   3.9]\n",
      " [ 1.   6.   1. ]\n",
      " [ 3.   5.   3.3]\n",
      " [ 1.   6.   1.8]\n",
      " [ 5.   3.   1.7]\n",
      " [ 1.   8.   4.7]\n",
      " [ 4.   5.   3.4]\n",
      " [ 3.   6.   3.2]]\n",
      "처음 5행 : [[ 3.   6.   3.7]\n",
      " [ 5.  10.   3.1]\n",
      " [ 3.   2.   2.7]\n",
      " [ 1.   9.   1.7]\n",
      " [ 3.   8.   2.4]]\n"
     ]
    }
   ],
   "execution_count": 47
  },
  {
   "metadata": {
    "ExecuteTime": {
     "end_time": "2025-02-14T07:19:32.275667Z",
     "start_time": "2025-02-14T07:19:32.272425Z"
    }
   },
   "cell_type": "code",
   "source": [
    "mean_ratings = data[1:,2].mean()\n",
    "print(f\"2번째 열(평점)의 평균 : {mean_ratings}\")"
   ],
   "id": "bd43d0064b2cebac",
   "outputs": [
    {
     "name": "stdout",
     "output_type": "stream",
     "text": [
      "2번째 열(평점)의 평균 : 3.075\n"
     ]
    }
   ],
   "execution_count": 48
  },
  {
   "metadata": {
    "ExecuteTime": {
     "end_time": "2025-02-14T07:19:33.343972Z",
     "start_time": "2025-02-14T07:19:33.338840Z"
    }
   },
   "cell_type": "code",
   "source": [
    "user_ids=np.unique(data[1:,0])\n",
    "\n",
    "print(f\"사용자 아이디 :  {user_ids}\")\n",
    "\n",
    "mean_values=[]\n",
    "for user_id in user_ids:\n",
    "    # 유저가 남긴 모든 영화 평점에 대해서 모두 수집\n",
    "    data_for_user=data[data[:,0]==user_id,:]\n",
    "    # 수집된 모든 평점을 평균화\n",
    "    value=data_for_user[:,2].mean()\n",
    "    mean_values.append([user_id,value])\n",
    "\n",
    "print(f\"사용자 아이디 별 평균 값 : {mean_values}\")\n",
    "\n",
    "mean_array=np.array(mean_values,dtype=np.float32)\n",
    "\n",
    "print(f\"사용자 아이디 별 평균 값 : {mean_array[:5]}\")\n",
    "\n",
    "np.savetxt(\"result_mini_rating_mean.csv\",mean_array,\n",
    "           fmt=\"%.1f\",delimiter=\",\")"
   ],
   "id": "c956b5eb83cc036b",
   "outputs": [
    {
     "name": "stdout",
     "output_type": "stream",
     "text": [
      "사용자 아이디 :  [1. 2. 3. 4. 5.]\n",
      "사용자 아이디 별 평균 값 : [[np.float64(1.0), np.float64(2.3)], [np.float64(2.0), np.float64(3.533333333333333)], [np.float64(3.0), np.float64(3.1142857142857143)], [np.float64(4.0), np.float64(3.3666666666666667)], [np.float64(5.0), np.float64(3.266666666666666)]]\n",
      "사용자 아이디 별 평균 값 : [[1.        2.3      ]\n",
      " [2.        3.5333333]\n",
      " [3.        3.1142857]\n",
      " [4.        3.3666666]\n",
      " [5.        3.2666667]]\n"
     ]
    }
   ],
   "execution_count": 49
  }
 ],
 "metadata": {
  "kernelspec": {
   "display_name": "Python 3",
   "language": "python",
   "name": "python3"
  },
  "language_info": {
   "codemirror_mode": {
    "name": "ipython",
    "version": 2
   },
   "file_extension": ".py",
   "mimetype": "text/x-python",
   "name": "python",
   "nbconvert_exporter": "python",
   "pygments_lexer": "ipython2",
   "version": "2.7.6"
  }
 },
 "nbformat": 4,
 "nbformat_minor": 5
}
