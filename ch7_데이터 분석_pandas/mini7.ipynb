{
 "cells": [
  {
   "cell_type": "code",
   "id": "initial_id",
   "metadata": {
    "collapsed": true
   },
   "source": [
    "import pandas as pd\n",
    "\n",
    "df = pd.Series([10, 20,30, 40], index=['A', 'B', 'C', 'D'])\n",
    "print(df)"
   ],
   "outputs": [],
   "execution_count": null
  },
  {
   "metadata": {},
   "cell_type": "code",
   "source": [
    "df = pd.DataFrame({\n",
    "    '이름':['철수', '영희', '민수', '지연'],\n",
    "    '나이':[25,24,26,23],\n",
    "    '성별':['남', '여', '남', '여']\n",
    "})\n",
    "print(df)\n",
    "\n",
    "df.index = ['ID1', 'ID2', 'ID3', 'ID4']\n",
    "print(df)"
   ],
   "id": "3395c8d5b6de625",
   "outputs": [],
   "execution_count": null
  },
  {
   "metadata": {},
   "cell_type": "code",
   "source": [
    "products = pd.DataFrame({\n",
    "    '제품명':['노트북','키보드','마우스','모니터'],\n",
    "    '가격':[1500000,50000,30000,200000],\n",
    "    '재고':[10,50,70,20]\n",
    "})\n",
    "print(products)\n",
    "\n",
    "products['할인율'] = [0.10,0.05,0.02,0.08]\n",
    "print(products)\n",
    "\n",
    "products['할인가격'] = products['가격'] * (1 - products['할인율'])\n",
    "print(products)"
   ],
   "id": "42df0c3c00eefde4",
   "outputs": [],
   "execution_count": null
  },
  {
   "metadata": {},
   "cell_type": "code",
   "source": [
    "students = pd.DataFrame({\n",
    "    '이름':['철수', '영희', '민수', '지연'],\n",
    "    '성적':[85,90,78,92],\n",
    "    '출석':[True,True,False,True],\n",
    "    '성별':['남', '여', '남', '여']\n",
    "})\n",
    "print('students 전체')\n",
    "print(students)\n",
    "\n",
    "del students['성별']\n",
    "print('students 성별 제거')\n",
    "print(students)\n",
    "\n",
    "students_score = students.loc[students['성적']>80,:]\n",
    "print('students 성적 80 이상')\n",
    "print(students_score)\n",
    "\n",
    "students_attendance = students.loc[students['출석']==False,:]\n",
    "print('students 출석 False 출력')\n",
    "print(students_attendance)"
   ],
   "id": "8c8cf09f53c04970",
   "outputs": [],
   "execution_count": null
  },
  {
   "metadata": {},
   "cell_type": "code",
   "source": [
    "flights = pd.DataFrame({\n",
    "    '항공사':['대한항공', '아시아나', '제주항공', '티웨이', '진에어'],\n",
    "    '출발지':['서울','부산','제주','서울','광주'],\n",
    "    '도착지':['도쿄','상하이','서울','제주','부산'],\n",
    "    '출발 지연':[10,0,30,15,20],\n",
    "    '도착 지연':[5,0,45,20,10]\n",
    "})\n",
    "print('flights 전체')\n",
    "print(flights)\n",
    "\n",
    "# 지연된 항공편만 필터링\n",
    "filter_flights = flights.loc[flights['출발 지연']>0,['항공사']]\n",
    "print('출발 지연 항공편만 필터링')\n",
    "print(filter_flights)\n",
    "\n",
    "# 도착 지연 시간의 평균\n",
    "mean_flights = flights['도착 지연'].mean()\n",
    "print('도착 지연 시간의 평균')\n",
    "print(mean_flights)"
   ],
   "id": "e584a56854636b38",
   "outputs": [],
   "execution_count": null
  },
  {
   "metadata": {},
   "cell_type": "code",
   "source": [
    "# 1. CSV 파일에서 데이터를 읽어 DataFrame으로 변환\n",
    "input_file = \"/Users/ihanjo/Documents/K-Digital/python_my/ch7_데이터 분석_pandas/flights_data.csv\"\n",
    "df = pd.read_csv(input_file)\n",
    "print(df)\n",
    "\n",
    "# 2. 특정 열을 기준으로 정렬 (출발 지연 시간이 긴 순서로 정렬)\n",
    "df_sorted = df.sort_values(by='출발 지연(분)', ascending=False)\n",
    "print(df_sorted)\n",
    "\n",
    "# 3. 특정 조건을 만족하는 데이터를 필터링하고 새로운 CSV 파일로 저장\n",
    "output_file = \"/Users/ihanjo/Documents/K-Digital/python_my/ch7_데이터 분석_pandas/filtered_flights_data.csv\"\n",
    "df_filtered = df_sorted[df_sorted['출발 지연(분)'] >= 30]\n",
    "df_filtered.to_csv(output_file, index=False)"
   ],
   "id": "ce6d20a211794c5c",
   "outputs": [],
   "execution_count": null
  },
  {
   "metadata": {},
   "cell_type": "code",
   "source": [
    "delay = df.groupby('항공사')['출발 지연(분)'].mean()\n",
    "print('항공사별 평균 지연 시간')\n",
    "print(delay)\n",
    "\n",
    "result = df['출발 지연(분)'].corr(df['도착 지연(분)'])\n",
    "print('출발 지연와 도착 지연의 상관관계')\n",
    "print(result)\n",
    "\n",
    "def adjust_delay(row):\n",
    "    sum_flights = row['출발 지연(분)'] + row['도착 지연(분)']\n",
    "    return sum_flights\n",
    "\n",
    "apply_flights = df.apply(adjust_delay, axis=1)\n",
    "print('출발 지연와 도착 지연의 합')\n",
    "print(apply_flights)\n",
    "\n",
    "# 4. 사용자 정의 함수 적용 (지연 시간이 30분 이상이면 '긴 지연', 아니면 '보통')\n",
    "def apply_delay(row):\n",
    "    if row['출발 지연(분)']+row['도착 지연(분)'] >= 30:\n",
    "        return '긴 지연'\n",
    "    else:\n",
    "        return '보통'\n",
    "\n",
    "df['지연 상태'] = df.apply(apply_delay, axis=1)\n",
    "print(df)"
   ],
   "id": "95b191cc1115935e",
   "outputs": [],
   "execution_count": null
  }
 ],
 "metadata": {
  "kernelspec": {
   "display_name": "Python 3",
   "language": "python",
   "name": "python3"
  },
  "language_info": {
   "codemirror_mode": {
    "name": "ipython",
    "version": 2
   },
   "file_extension": ".py",
   "mimetype": "text/x-python",
   "name": "python",
   "nbconvert_exporter": "python",
   "pygments_lexer": "ipython2",
   "version": "2.7.6"
  }
 },
 "nbformat": 4,
 "nbformat_minor": 5
}
