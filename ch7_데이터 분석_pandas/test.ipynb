{
 "cells": [
  {
   "cell_type": "code",
   "id": "4a12e65728d675e",
   "metadata": {
    "ExecuteTime": {
     "end_time": "2025-02-17T00:33:53.874629Z",
     "start_time": "2025-02-17T00:33:53.871192Z"
    }
   },
   "source": [
    "import pandas as pd\n",
    "import numpy as np\n",
    "\n",
    "# Series 정의하기\n",
    "x = pd.Series([4, 3, 5, 8])\n",
    "print(x)\n",
    "print(type(x))\n",
    "# Series의 값만 확인하기\n",
    "print(x.values)\n",
    "# Series의 인덱스만 확인하기\n",
    "print(x.index)\n",
    "# Series의 자료형 확인하기\n",
    "print(x.dtype)"
   ],
   "outputs": [
    {
     "name": "stdout",
     "output_type": "stream",
     "text": [
      "0    4\n",
      "1    3\n",
      "2    5\n",
      "3    8\n",
      "dtype: int64\n",
      "<class 'pandas.core.series.Series'>\n",
      "[4 3 5 8]\n",
      "RangeIndex(start=0, stop=4, step=1)\n",
      "int64\n"
     ]
    }
   ],
   "execution_count": 2
  },
  {
   "metadata": {
    "collapsed": true,
    "ExecuteTime": {
     "end_time": "2025-02-17T00:34:58.501697Z",
     "start_time": "2025-02-17T00:34:58.497461Z"
    }
   },
   "cell_type": "code",
   "source": [
    "data = [100, 200, 300, 400]\n",
    "index_labels = ['a', 'b', 'c', 'd']\n",
    "series = pd.Series(data, index=index_labels)\n",
    "print(series)"
   ],
   "id": "initial_id",
   "outputs": [
    {
     "name": "stdout",
     "output_type": "stream",
     "text": [
      "a    100\n",
      "b    200\n",
      "c    300\n",
      "d    400\n",
      "dtype: int64\n"
     ]
    }
   ],
   "execution_count": 4
  },
  {
   "metadata": {
    "ExecuteTime": {
     "end_time": "2025-02-17T00:36:54.710268Z",
     "start_time": "2025-02-17T00:36:54.704263Z"
    }
   },
   "cell_type": "code",
   "source": [
    "#dictionary 자료형으로 Series data로 만들기\n",
    "#dictionary의 key가 Series의 index가 된다\n",
    "sdata = {'Kim': 35000, 'Beomwoo': 67000, 'Joan': 12000, 'Choi': 4000}\n",
    "obj3 = pd.Series(sdata)\n",
    "print(obj3)\n",
    "\n",
    "obj3.name = 'Salary'\n",
    "obj3.index.name = \"Names\"\n",
    "print(obj3)\n",
    "# index 변경\n",
    "obj3.index = ['A', 'B', 'C', 'D']\n",
    "print(obj3)"
   ],
   "id": "b08d7a1b56c120f6",
   "outputs": [
    {
     "name": "stdout",
     "output_type": "stream",
     "text": [
      "Kim        35000\n",
      "Beomwoo    67000\n",
      "Joan       12000\n",
      "Choi        4000\n",
      "dtype: int64\n",
      "Names\n",
      "Kim        35000\n",
      "Beomwoo    67000\n",
      "Joan       12000\n",
      "Choi        4000\n",
      "Name: Salary, dtype: int64\n",
      "A    35000\n",
      "B    67000\n",
      "C    12000\n",
      "D     4000\n",
      "Name: Salary, dtype: int64\n"
     ]
    }
   ],
   "execution_count": 6
  },
  {
   "metadata": {
    "ExecuteTime": {
     "end_time": "2025-02-17T00:38:58.329163Z",
     "start_time": "2025-02-17T00:38:58.325286Z"
    }
   },
   "cell_type": "code",
   "source": [
    "# index 사용\n",
    "x=pd.Series([7,3,5,8], index=['서울','대구','부산','광주'])\n",
    "print(x)\n",
    "print(x[['서울']])\n",
    "print(x[['서울','부산']])"
   ],
   "id": "53f7ef11e8953b7e",
   "outputs": [
    {
     "name": "stdout",
     "output_type": "stream",
     "text": [
      "서울    7\n",
      "대구    3\n",
      "부산    5\n",
      "광주    8\n",
      "dtype: int64\n",
      "서울    7\n",
      "dtype: int64\n",
      "서울    7\n",
      "부산    5\n",
      "dtype: int64\n"
     ]
    }
   ],
   "execution_count": 8
  },
  {
   "metadata": {
    "ExecuteTime": {
     "end_time": "2025-02-17T00:40:17.004401Z",
     "start_time": "2025-02-17T00:40:16.999894Z"
    }
   },
   "cell_type": "code",
   "source": [
    "#Series 연산\n",
    "x=pd.Series([7,3,5,8], index=['서울','대구','부산','광주'])\n",
    "y=pd.Series([2,4,5,1], index=['대구','부산','서울','대전'])\n",
    "print(x+y)"
   ],
   "id": "cb41322d8337adc7",
   "outputs": [
    {
     "name": "stdout",
     "output_type": "stream",
     "text": [
      "광주     NaN\n",
      "대구     5.0\n",
      "대전     NaN\n",
      "부산     9.0\n",
      "서울    12.0\n",
      "dtype: float64\n"
     ]
    }
   ],
   "execution_count": 9
  },
  {
   "metadata": {
    "ExecuteTime": {
     "end_time": "2025-02-17T00:42:12.379130Z",
     "start_time": "2025-02-17T00:42:12.370100Z"
    }
   },
   "cell_type": "code",
   "source": [
    "# Data Frame 정의하기\n",
    "# 이전에 DataFrame에 들어갈 데이터를 정의해주어야 하는데,\n",
    "# 이는 python의 dictionary 또는 numpy의 array로 정의할 수 있다.\n",
    "data = {'names': ['민준', '현우', '서연', '동현', '지현'],\n",
    "'years': [2013, 2014, 2015, 2016, 2015],\n",
    "'points': [1.5, 1.7, 3.6, 2.4, 2.9]}\n",
    "df = pd.DataFrame(data)\n",
    "df\n",
    "# 행과 열의 구조를 가진 데이터가 생긴다."
   ],
   "id": "d02d823a14315afc",
   "outputs": [
    {
     "data": {
      "text/plain": [
       "  names  years  points\n",
       "0    민준   2013     1.5\n",
       "1    현우   2014     1.7\n",
       "2    서연   2015     3.6\n",
       "3    동현   2016     2.4\n",
       "4    지현   2015     2.9"
      ],
      "text/html": [
       "<div>\n",
       "<style scoped>\n",
       "    .dataframe tbody tr th:only-of-type {\n",
       "        vertical-align: middle;\n",
       "    }\n",
       "\n",
       "    .dataframe tbody tr th {\n",
       "        vertical-align: top;\n",
       "    }\n",
       "\n",
       "    .dataframe thead th {\n",
       "        text-align: right;\n",
       "    }\n",
       "</style>\n",
       "<table border=\"1\" class=\"dataframe\">\n",
       "  <thead>\n",
       "    <tr style=\"text-align: right;\">\n",
       "      <th></th>\n",
       "      <th>names</th>\n",
       "      <th>years</th>\n",
       "      <th>points</th>\n",
       "    </tr>\n",
       "  </thead>\n",
       "  <tbody>\n",
       "    <tr>\n",
       "      <th>0</th>\n",
       "      <td>민준</td>\n",
       "      <td>2013</td>\n",
       "      <td>1.5</td>\n",
       "    </tr>\n",
       "    <tr>\n",
       "      <th>1</th>\n",
       "      <td>현우</td>\n",
       "      <td>2014</td>\n",
       "      <td>1.7</td>\n",
       "    </tr>\n",
       "    <tr>\n",
       "      <th>2</th>\n",
       "      <td>서연</td>\n",
       "      <td>2015</td>\n",
       "      <td>3.6</td>\n",
       "    </tr>\n",
       "    <tr>\n",
       "      <th>3</th>\n",
       "      <td>동현</td>\n",
       "      <td>2016</td>\n",
       "      <td>2.4</td>\n",
       "    </tr>\n",
       "    <tr>\n",
       "      <th>4</th>\n",
       "      <td>지현</td>\n",
       "      <td>2015</td>\n",
       "      <td>2.9</td>\n",
       "    </tr>\n",
       "  </tbody>\n",
       "</table>\n",
       "</div>"
      ]
     },
     "execution_count": 10,
     "metadata": {},
     "output_type": "execute_result"
    }
   ],
   "execution_count": 10
  },
  {
   "metadata": {
    "ExecuteTime": {
     "end_time": "2025-02-17T00:46:09.507771Z",
     "start_time": "2025-02-17T00:46:09.499602Z"
    }
   },
   "cell_type": "code",
   "source": [
    "data = {\n",
    "    '이름':['이한1', '이한2', '이한3'],\n",
    "    '나이' :[23,25,26],\n",
    "    '좋아하는 음식' :['아이스크림', '피자', '국밥']\n",
    "}\n",
    "df = pd.DataFrame(data)\n",
    "\n",
    "df.index = ['ID1', 'ID2', 'ID3']\n",
    "df"
   ],
   "id": "d660fcfc4b2e61e4",
   "outputs": [
    {
     "data": {
      "text/plain": [
       "      이름  나이 좋아하는 음식\n",
       "ID1  이한1  23   아이스크림\n",
       "ID2  이한2  25      피자\n",
       "ID3  이한3  26      국밥"
      ],
      "text/html": [
       "<div>\n",
       "<style scoped>\n",
       "    .dataframe tbody tr th:only-of-type {\n",
       "        vertical-align: middle;\n",
       "    }\n",
       "\n",
       "    .dataframe tbody tr th {\n",
       "        vertical-align: top;\n",
       "    }\n",
       "\n",
       "    .dataframe thead th {\n",
       "        text-align: right;\n",
       "    }\n",
       "</style>\n",
       "<table border=\"1\" class=\"dataframe\">\n",
       "  <thead>\n",
       "    <tr style=\"text-align: right;\">\n",
       "      <th></th>\n",
       "      <th>이름</th>\n",
       "      <th>나이</th>\n",
       "      <th>좋아하는 음식</th>\n",
       "    </tr>\n",
       "  </thead>\n",
       "  <tbody>\n",
       "    <tr>\n",
       "      <th>ID1</th>\n",
       "      <td>이한1</td>\n",
       "      <td>23</td>\n",
       "      <td>아이스크림</td>\n",
       "    </tr>\n",
       "    <tr>\n",
       "      <th>ID2</th>\n",
       "      <td>이한2</td>\n",
       "      <td>25</td>\n",
       "      <td>피자</td>\n",
       "    </tr>\n",
       "    <tr>\n",
       "      <th>ID3</th>\n",
       "      <td>이한3</td>\n",
       "      <td>26</td>\n",
       "      <td>국밥</td>\n",
       "    </tr>\n",
       "  </tbody>\n",
       "</table>\n",
       "</div>"
      ]
     },
     "execution_count": 15,
     "metadata": {},
     "output_type": "execute_result"
    }
   ],
   "execution_count": 15
  }
 ],
 "metadata": {
  "kernelspec": {
   "display_name": "Python 3",
   "language": "python",
   "name": "python3"
  },
  "language_info": {
   "codemirror_mode": {
    "name": "ipython",
    "version": 2
   },
   "file_extension": ".py",
   "mimetype": "text/x-python",
   "name": "python",
   "nbconvert_exporter": "python",
   "pygments_lexer": "ipython2",
   "version": "2.7.6"
  }
 },
 "nbformat": 4,
 "nbformat_minor": 5
}
