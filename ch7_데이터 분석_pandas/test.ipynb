{
 "cells": [
  {
   "cell_type": "code",
   "id": "4a12e65728d675e",
   "metadata": {},
   "source": [
    "import pandas as pd\n",
    "import numpy as np\n",
    "\n",
    "# Series 정의하기\n",
    "x = pd.Series([4, 3, 5, 8])\n",
    "print(x)\n",
    "print(type(x))\n",
    "# Series의 값만 확인하기\n",
    "print(x.values)\n",
    "# Series의 인덱스만 확인하기\n",
    "print(x.index)\n",
    "# Series의 자료형 확인하기\n",
    "print(x.dtype)"
   ],
   "outputs": [],
   "execution_count": null
  },
  {
   "metadata": {
    "collapsed": true
   },
   "cell_type": "code",
   "source": [
    "data = [100, 200, 300, 400]\n",
    "index_labels = ['a', 'b', 'c', 'd']\n",
    "series = pd.Series(data, index=index_labels)\n",
    "print(series)"
   ],
   "id": "initial_id",
   "outputs": [],
   "execution_count": null
  },
  {
   "metadata": {},
   "cell_type": "code",
   "source": [
    "#dictionary 자료형으로 Series data로 만들기\n",
    "#dictionary의 key가 Series의 index가 된다\n",
    "sdata = {'Kim': 35000, 'Beomwoo': 67000, 'Joan': 12000, 'Choi': 4000}\n",
    "obj3 = pd.Series(sdata)\n",
    "print(obj3)\n",
    "\n",
    "obj3.name = 'Salary'\n",
    "obj3.index.name = \"Names\"\n",
    "print(obj3)\n",
    "# index 변경\n",
    "obj3.index = ['A', 'B', 'C', 'D']\n",
    "print(obj3)"
   ],
   "id": "b08d7a1b56c120f6",
   "outputs": [],
   "execution_count": null
  },
  {
   "metadata": {},
   "cell_type": "code",
   "source": [
    "# index 사용\n",
    "x=pd.Series([7,3,5,8], index=['서울','대구','부산','광주'])\n",
    "print(x)\n",
    "print(x[['서울']])\n",
    "print(x[['서울','부산']])"
   ],
   "id": "53f7ef11e8953b7e",
   "outputs": [],
   "execution_count": null
  },
  {
   "metadata": {},
   "cell_type": "code",
   "source": [
    "#Series 연산\n",
    "x=pd.Series([7,3,5,8], index=['서울','대구','부산','광주'])\n",
    "y=pd.Series([2,4,5,1], index=['대구','부산','서울','대전'])\n",
    "print(x+y)"
   ],
   "id": "cb41322d8337adc7",
   "outputs": [],
   "execution_count": null
  },
  {
   "metadata": {},
   "cell_type": "code",
   "source": [
    "# Data Frame 정의하기\n",
    "# 이전에 DataFrame에 들어갈 데이터를 정의해주어야 하는데,\n",
    "# 이는 python의 dictionary 또는 numpy의 array로 정의할 수 있다.\n",
    "data = {'names': ['민준', '현우', '서연', '동현', '지현'],\n",
    "'years': [2013, 2014, 2015, 2016, 2015],\n",
    "'points': [1.5, 1.7, 3.6, 2.4, 2.9]}\n",
    "df = pd.DataFrame(data)\n",
    "df\n",
    "# 행과 열의 구조를 가진 데이터가 생긴다."
   ],
   "id": "d02d823a14315afc",
   "outputs": [],
   "execution_count": null
  },
  {
   "metadata": {},
   "cell_type": "code",
   "source": [
    "data = {\n",
    "    '이름':['이한1', '이한2', '이한3'],\n",
    "    '나이' :[23,25,26],\n",
    "    '좋아하는 음식' :['아이스크림', '피자', '국밥']\n",
    "}\n",
    "df = pd.DataFrame(data)\n",
    "\n",
    "df.index = ['ID1', 'ID2', 'ID3']\n",
    "df"
   ],
   "id": "d660fcfc4b2e61e4",
   "outputs": [],
   "execution_count": null
  },
  {
   "metadata": {},
   "cell_type": "code",
   "source": [
    "data=[['민준','현우','서연','동현','지현'],\n",
    "      [2013,2014,2015,2016,2015],\n",
    "      [1.5,1.7,3.6,2.4,2.9]]\n",
    "print(data)\n",
    "\n",
    "data1=zip(data[0],data[1],data[2])\n",
    "print(data1)\n",
    "\n",
    "df=pd.DataFrame(data1,columns=['names','years','points'])\n",
    "\n",
    "df.describe()"
   ],
   "id": "ea026c12b32c5bb",
   "outputs": [],
   "execution_count": null
  },
  {
   "metadata": {},
   "cell_type": "code",
   "source": [
    "df = pd.DataFrame({\n",
    "    '가격':[1000, 5500, 2500, 3000, 1500],\n",
    "    '판매량':[50, 35, 20, 45, 10]\n",
    "})\n",
    "\n",
    "df['판매량'] = df['판매량'] * 2\n",
    "\n",
    "df['총액'] = df['가격'] * df['판매량']\n",
    "\n",
    "# del df['총액']"
   ],
   "id": "fe5e78093f2b6204",
   "outputs": [],
   "execution_count": null
  },
  {
   "metadata": {},
   "cell_type": "code",
   "source": [
    "# 행으로 접근, loc[]: 라벨이름\n",
    "# 행으로 접근, iloc[]: 인덱스 번호로 접근\n",
    "\n",
    "print('행으로 추출')\n",
    "print(df[0:3])\n",
    "\n",
    "print('행으로 추출 2')\n",
    "print(df.loc[1])\n",
    "\n",
    "print('행,열로 추출 3')\n",
    "print(df.iloc[0:3,1])\n",
    "\n",
    "print('필터 추출 4')\n",
    "print(df['가격']>2000)\n",
    "\n",
    "print('필터 추출 5')\n",
    "print(df.loc[df['가격']>2000,:])\n",
    "\n",
    "print('필터 추출 6')\n",
    "print(df.loc[df['가격']>2000,['판매량','총액']])\n",
    "\n",
    "print('상관 관계')\n",
    "df['가격'].corr(df['판매량'])"
   ],
   "id": "978902bd190b6eb",
   "outputs": [],
   "execution_count": null
  },
  {
   "metadata": {},
   "cell_type": "code",
   "source": [
    "df = pd.DataFrame({\n",
    "'이름':['철수', '영희', '민수', '지수'],\n",
    "'점수':[90, None, 85, 88],\n",
    "})\n",
    "\n",
    "drop_df = df.dropna()\n",
    "fill_df = df.fillna(value=0)\n",
    "\n",
    "print(f\"drop_df : {drop_df}\")\n",
    "print(f\"fill_df : {fill_df}\")"
   ],
   "id": "31f00079dda5e991",
   "outputs": [],
   "execution_count": null
  },
  {
   "metadata": {},
   "cell_type": "code",
   "source": [
    "df2 = pd.DataFrame(np.random.randn(6, 4),\n",
    "columns=[\"A\", \"B\", \"C\", \"D\"],\n",
    "index=pd.date_range(\"20160701\", periods=6))\n",
    "df2\n",
    "\n",
    "df2['A'].corr(df2['B'])"
   ],
   "id": "5fd5d3121fb9dea1",
   "outputs": [],
   "execution_count": null
  }
 ],
 "metadata": {
  "kernelspec": {
   "display_name": "Python 3",
   "language": "python",
   "name": "python3"
  },
  "language_info": {
   "codemirror_mode": {
    "name": "ipython",
    "version": 2
   },
   "file_extension": ".py",
   "mimetype": "text/x-python",
   "name": "python",
   "nbconvert_exporter": "python",
   "pygments_lexer": "ipython2",
   "version": "2.7.6"
  }
 },
 "nbformat": 4,
 "nbformat_minor": 5
}
